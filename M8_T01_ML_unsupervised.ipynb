{
  "nbformat": 4,
  "nbformat_minor": 0,
  "metadata": {
    "colab": {
      "provenance": []
    },
    "kernelspec": {
      "name": "python3",
      "display_name": "Python 3"
    },
    "language_info": {
      "name": "python"
    }
  },
  "cells": [
    {
      "cell_type": "markdown",
      "source": [
        "# EX01 A. Descarrega el dataset adjunt, de registres de publicacions a Facebook sobre Tailàndia ..."
      ],
      "metadata": {
        "id": "lJRE7is8N2xE"
      }
    },
    {
      "cell_type": "markdown",
      "source": [
        "# Carga de datos"
      ],
      "metadata": {
        "id": "03j2-UvbjCfp"
      }
    },
    {
      "cell_type": "code",
      "source": [
        "import pandas as pd"
      ],
      "metadata": {
        "id": "c9kALTSDjEE_"
      },
      "execution_count": 104,
      "outputs": []
    },
    {
      "cell_type": "code",
      "source": [
        "face_thai = pd.read_csv('Publicacions Facebook Thailandia.csv', sep=',', encoding='utf-8')"
      ],
      "metadata": {
        "id": "_mSmVm1ijIn-"
      },
      "execution_count": 105,
      "outputs": []
    },
    {
      "cell_type": "markdown",
      "source": [
        "Comenzamos haciendo una exploración general de los datos:"
      ],
      "metadata": {
        "id": "UIrZ35gPm8yl"
      }
    },
    {
      "cell_type": "code",
      "source": [
        "face_thai.head()"
      ],
      "metadata": {
        "colab": {
          "base_uri": "https://localhost:8080/",
          "height": 226
        },
        "id": "SYzBNv4vkHbl",
        "outputId": "d2463000-d0b8-4e54-a94d-c5f8ceb467f3"
      },
      "execution_count": 106,
      "outputs": [
        {
          "output_type": "execute_result",
          "data": {
            "text/plain": [
              "                          status_id status_type status_published  \\\n",
              "0  246675545449582_1649696485147474       video   4/22/2018 6:00   \n",
              "1  246675545449582_1649426988507757       photo  4/21/2018 22:45   \n",
              "2  246675545449582_1648730588577397       video   4/21/2018 6:17   \n",
              "3  246675545449582_1648576705259452       photo   4/21/2018 2:29   \n",
              "4  246675545449582_1645700502213739       photo   4/18/2018 3:22   \n",
              "\n",
              "   num_reactions  num_comments  num_shares  num_likes  num_loves  num_wows  \\\n",
              "0            529           512         262        432         92         3   \n",
              "1            150             0           0        150          0         0   \n",
              "2            227           236          57        204         21         1   \n",
              "3            111             0           0        111          0         0   \n",
              "4            213             0           0        204          9         0   \n",
              "\n",
              "   num_hahas  num_sads  num_angrys  Column1  Column2  Column3  Column4  \n",
              "0          1         1           0      NaN      NaN      NaN      NaN  \n",
              "1          0         0           0      NaN      NaN      NaN      NaN  \n",
              "2          1         0           0      NaN      NaN      NaN      NaN  \n",
              "3          0         0           0      NaN      NaN      NaN      NaN  \n",
              "4          0         0           0      NaN      NaN      NaN      NaN  "
            ],
            "text/html": [
              "\n",
              "  <div id=\"df-ef6b4a57-7aa2-47d5-b177-3eafad8443b3\" class=\"colab-df-container\">\n",
              "    <div>\n",
              "<style scoped>\n",
              "    .dataframe tbody tr th:only-of-type {\n",
              "        vertical-align: middle;\n",
              "    }\n",
              "\n",
              "    .dataframe tbody tr th {\n",
              "        vertical-align: top;\n",
              "    }\n",
              "\n",
              "    .dataframe thead th {\n",
              "        text-align: right;\n",
              "    }\n",
              "</style>\n",
              "<table border=\"1\" class=\"dataframe\">\n",
              "  <thead>\n",
              "    <tr style=\"text-align: right;\">\n",
              "      <th></th>\n",
              "      <th>status_id</th>\n",
              "      <th>status_type</th>\n",
              "      <th>status_published</th>\n",
              "      <th>num_reactions</th>\n",
              "      <th>num_comments</th>\n",
              "      <th>num_shares</th>\n",
              "      <th>num_likes</th>\n",
              "      <th>num_loves</th>\n",
              "      <th>num_wows</th>\n",
              "      <th>num_hahas</th>\n",
              "      <th>num_sads</th>\n",
              "      <th>num_angrys</th>\n",
              "      <th>Column1</th>\n",
              "      <th>Column2</th>\n",
              "      <th>Column3</th>\n",
              "      <th>Column4</th>\n",
              "    </tr>\n",
              "  </thead>\n",
              "  <tbody>\n",
              "    <tr>\n",
              "      <th>0</th>\n",
              "      <td>246675545449582_1649696485147474</td>\n",
              "      <td>video</td>\n",
              "      <td>4/22/2018 6:00</td>\n",
              "      <td>529</td>\n",
              "      <td>512</td>\n",
              "      <td>262</td>\n",
              "      <td>432</td>\n",
              "      <td>92</td>\n",
              "      <td>3</td>\n",
              "      <td>1</td>\n",
              "      <td>1</td>\n",
              "      <td>0</td>\n",
              "      <td>NaN</td>\n",
              "      <td>NaN</td>\n",
              "      <td>NaN</td>\n",
              "      <td>NaN</td>\n",
              "    </tr>\n",
              "    <tr>\n",
              "      <th>1</th>\n",
              "      <td>246675545449582_1649426988507757</td>\n",
              "      <td>photo</td>\n",
              "      <td>4/21/2018 22:45</td>\n",
              "      <td>150</td>\n",
              "      <td>0</td>\n",
              "      <td>0</td>\n",
              "      <td>150</td>\n",
              "      <td>0</td>\n",
              "      <td>0</td>\n",
              "      <td>0</td>\n",
              "      <td>0</td>\n",
              "      <td>0</td>\n",
              "      <td>NaN</td>\n",
              "      <td>NaN</td>\n",
              "      <td>NaN</td>\n",
              "      <td>NaN</td>\n",
              "    </tr>\n",
              "    <tr>\n",
              "      <th>2</th>\n",
              "      <td>246675545449582_1648730588577397</td>\n",
              "      <td>video</td>\n",
              "      <td>4/21/2018 6:17</td>\n",
              "      <td>227</td>\n",
              "      <td>236</td>\n",
              "      <td>57</td>\n",
              "      <td>204</td>\n",
              "      <td>21</td>\n",
              "      <td>1</td>\n",
              "      <td>1</td>\n",
              "      <td>0</td>\n",
              "      <td>0</td>\n",
              "      <td>NaN</td>\n",
              "      <td>NaN</td>\n",
              "      <td>NaN</td>\n",
              "      <td>NaN</td>\n",
              "    </tr>\n",
              "    <tr>\n",
              "      <th>3</th>\n",
              "      <td>246675545449582_1648576705259452</td>\n",
              "      <td>photo</td>\n",
              "      <td>4/21/2018 2:29</td>\n",
              "      <td>111</td>\n",
              "      <td>0</td>\n",
              "      <td>0</td>\n",
              "      <td>111</td>\n",
              "      <td>0</td>\n",
              "      <td>0</td>\n",
              "      <td>0</td>\n",
              "      <td>0</td>\n",
              "      <td>0</td>\n",
              "      <td>NaN</td>\n",
              "      <td>NaN</td>\n",
              "      <td>NaN</td>\n",
              "      <td>NaN</td>\n",
              "    </tr>\n",
              "    <tr>\n",
              "      <th>4</th>\n",
              "      <td>246675545449582_1645700502213739</td>\n",
              "      <td>photo</td>\n",
              "      <td>4/18/2018 3:22</td>\n",
              "      <td>213</td>\n",
              "      <td>0</td>\n",
              "      <td>0</td>\n",
              "      <td>204</td>\n",
              "      <td>9</td>\n",
              "      <td>0</td>\n",
              "      <td>0</td>\n",
              "      <td>0</td>\n",
              "      <td>0</td>\n",
              "      <td>NaN</td>\n",
              "      <td>NaN</td>\n",
              "      <td>NaN</td>\n",
              "      <td>NaN</td>\n",
              "    </tr>\n",
              "  </tbody>\n",
              "</table>\n",
              "</div>\n",
              "    <div class=\"colab-df-buttons\">\n",
              "\n",
              "  <div class=\"colab-df-container\">\n",
              "    <button class=\"colab-df-convert\" onclick=\"convertToInteractive('df-ef6b4a57-7aa2-47d5-b177-3eafad8443b3')\"\n",
              "            title=\"Convert this dataframe to an interactive table.\"\n",
              "            style=\"display:none;\">\n",
              "\n",
              "  <svg xmlns=\"http://www.w3.org/2000/svg\" height=\"24px\" viewBox=\"0 -960 960 960\">\n",
              "    <path d=\"M120-120v-720h720v720H120Zm60-500h600v-160H180v160Zm220 220h160v-160H400v160Zm0 220h160v-160H400v160ZM180-400h160v-160H180v160Zm440 0h160v-160H620v160ZM180-180h160v-160H180v160Zm440 0h160v-160H620v160Z\"/>\n",
              "  </svg>\n",
              "    </button>\n",
              "\n",
              "  <style>\n",
              "    .colab-df-container {\n",
              "      display:flex;\n",
              "      gap: 12px;\n",
              "    }\n",
              "\n",
              "    .colab-df-convert {\n",
              "      background-color: #E8F0FE;\n",
              "      border: none;\n",
              "      border-radius: 50%;\n",
              "      cursor: pointer;\n",
              "      display: none;\n",
              "      fill: #1967D2;\n",
              "      height: 32px;\n",
              "      padding: 0 0 0 0;\n",
              "      width: 32px;\n",
              "    }\n",
              "\n",
              "    .colab-df-convert:hover {\n",
              "      background-color: #E2EBFA;\n",
              "      box-shadow: 0px 1px 2px rgba(60, 64, 67, 0.3), 0px 1px 3px 1px rgba(60, 64, 67, 0.15);\n",
              "      fill: #174EA6;\n",
              "    }\n",
              "\n",
              "    .colab-df-buttons div {\n",
              "      margin-bottom: 4px;\n",
              "    }\n",
              "\n",
              "    [theme=dark] .colab-df-convert {\n",
              "      background-color: #3B4455;\n",
              "      fill: #D2E3FC;\n",
              "    }\n",
              "\n",
              "    [theme=dark] .colab-df-convert:hover {\n",
              "      background-color: #434B5C;\n",
              "      box-shadow: 0px 1px 3px 1px rgba(0, 0, 0, 0.15);\n",
              "      filter: drop-shadow(0px 1px 2px rgba(0, 0, 0, 0.3));\n",
              "      fill: #FFFFFF;\n",
              "    }\n",
              "  </style>\n",
              "\n",
              "    <script>\n",
              "      const buttonEl =\n",
              "        document.querySelector('#df-ef6b4a57-7aa2-47d5-b177-3eafad8443b3 button.colab-df-convert');\n",
              "      buttonEl.style.display =\n",
              "        google.colab.kernel.accessAllowed ? 'block' : 'none';\n",
              "\n",
              "      async function convertToInteractive(key) {\n",
              "        const element = document.querySelector('#df-ef6b4a57-7aa2-47d5-b177-3eafad8443b3');\n",
              "        const dataTable =\n",
              "          await google.colab.kernel.invokeFunction('convertToInteractive',\n",
              "                                                    [key], {});\n",
              "        if (!dataTable) return;\n",
              "\n",
              "        const docLinkHtml = 'Like what you see? Visit the ' +\n",
              "          '<a target=\"_blank\" href=https://colab.research.google.com/notebooks/data_table.ipynb>data table notebook</a>'\n",
              "          + ' to learn more about interactive tables.';\n",
              "        element.innerHTML = '';\n",
              "        dataTable['output_type'] = 'display_data';\n",
              "        await google.colab.output.renderOutput(dataTable, element);\n",
              "        const docLink = document.createElement('div');\n",
              "        docLink.innerHTML = docLinkHtml;\n",
              "        element.appendChild(docLink);\n",
              "      }\n",
              "    </script>\n",
              "  </div>\n",
              "\n",
              "\n",
              "<div id=\"df-49b6bcb6-a752-4769-aeed-8d56e6c844cc\">\n",
              "  <button class=\"colab-df-quickchart\" onclick=\"quickchart('df-49b6bcb6-a752-4769-aeed-8d56e6c844cc')\"\n",
              "            title=\"Suggest charts\"\n",
              "            style=\"display:none;\">\n",
              "\n",
              "<svg xmlns=\"http://www.w3.org/2000/svg\" height=\"24px\"viewBox=\"0 0 24 24\"\n",
              "     width=\"24px\">\n",
              "    <g>\n",
              "        <path d=\"M19 3H5c-1.1 0-2 .9-2 2v14c0 1.1.9 2 2 2h14c1.1 0 2-.9 2-2V5c0-1.1-.9-2-2-2zM9 17H7v-7h2v7zm4 0h-2V7h2v10zm4 0h-2v-4h2v4z\"/>\n",
              "    </g>\n",
              "</svg>\n",
              "  </button>\n",
              "\n",
              "<style>\n",
              "  .colab-df-quickchart {\n",
              "      --bg-color: #E8F0FE;\n",
              "      --fill-color: #1967D2;\n",
              "      --hover-bg-color: #E2EBFA;\n",
              "      --hover-fill-color: #174EA6;\n",
              "      --disabled-fill-color: #AAA;\n",
              "      --disabled-bg-color: #DDD;\n",
              "  }\n",
              "\n",
              "  [theme=dark] .colab-df-quickchart {\n",
              "      --bg-color: #3B4455;\n",
              "      --fill-color: #D2E3FC;\n",
              "      --hover-bg-color: #434B5C;\n",
              "      --hover-fill-color: #FFFFFF;\n",
              "      --disabled-bg-color: #3B4455;\n",
              "      --disabled-fill-color: #666;\n",
              "  }\n",
              "\n",
              "  .colab-df-quickchart {\n",
              "    background-color: var(--bg-color);\n",
              "    border: none;\n",
              "    border-radius: 50%;\n",
              "    cursor: pointer;\n",
              "    display: none;\n",
              "    fill: var(--fill-color);\n",
              "    height: 32px;\n",
              "    padding: 0;\n",
              "    width: 32px;\n",
              "  }\n",
              "\n",
              "  .colab-df-quickchart:hover {\n",
              "    background-color: var(--hover-bg-color);\n",
              "    box-shadow: 0 1px 2px rgba(60, 64, 67, 0.3), 0 1px 3px 1px rgba(60, 64, 67, 0.15);\n",
              "    fill: var(--button-hover-fill-color);\n",
              "  }\n",
              "\n",
              "  .colab-df-quickchart-complete:disabled,\n",
              "  .colab-df-quickchart-complete:disabled:hover {\n",
              "    background-color: var(--disabled-bg-color);\n",
              "    fill: var(--disabled-fill-color);\n",
              "    box-shadow: none;\n",
              "  }\n",
              "\n",
              "  .colab-df-spinner {\n",
              "    border: 2px solid var(--fill-color);\n",
              "    border-color: transparent;\n",
              "    border-bottom-color: var(--fill-color);\n",
              "    animation:\n",
              "      spin 1s steps(1) infinite;\n",
              "  }\n",
              "\n",
              "  @keyframes spin {\n",
              "    0% {\n",
              "      border-color: transparent;\n",
              "      border-bottom-color: var(--fill-color);\n",
              "      border-left-color: var(--fill-color);\n",
              "    }\n",
              "    20% {\n",
              "      border-color: transparent;\n",
              "      border-left-color: var(--fill-color);\n",
              "      border-top-color: var(--fill-color);\n",
              "    }\n",
              "    30% {\n",
              "      border-color: transparent;\n",
              "      border-left-color: var(--fill-color);\n",
              "      border-top-color: var(--fill-color);\n",
              "      border-right-color: var(--fill-color);\n",
              "    }\n",
              "    40% {\n",
              "      border-color: transparent;\n",
              "      border-right-color: var(--fill-color);\n",
              "      border-top-color: var(--fill-color);\n",
              "    }\n",
              "    60% {\n",
              "      border-color: transparent;\n",
              "      border-right-color: var(--fill-color);\n",
              "    }\n",
              "    80% {\n",
              "      border-color: transparent;\n",
              "      border-right-color: var(--fill-color);\n",
              "      border-bottom-color: var(--fill-color);\n",
              "    }\n",
              "    90% {\n",
              "      border-color: transparent;\n",
              "      border-bottom-color: var(--fill-color);\n",
              "    }\n",
              "  }\n",
              "</style>\n",
              "\n",
              "  <script>\n",
              "    async function quickchart(key) {\n",
              "      const quickchartButtonEl =\n",
              "        document.querySelector('#' + key + ' button');\n",
              "      quickchartButtonEl.disabled = true;  // To prevent multiple clicks.\n",
              "      quickchartButtonEl.classList.add('colab-df-spinner');\n",
              "      try {\n",
              "        const charts = await google.colab.kernel.invokeFunction(\n",
              "            'suggestCharts', [key], {});\n",
              "      } catch (error) {\n",
              "        console.error('Error during call to suggestCharts:', error);\n",
              "      }\n",
              "      quickchartButtonEl.classList.remove('colab-df-spinner');\n",
              "      quickchartButtonEl.classList.add('colab-df-quickchart-complete');\n",
              "    }\n",
              "    (() => {\n",
              "      let quickchartButtonEl =\n",
              "        document.querySelector('#df-49b6bcb6-a752-4769-aeed-8d56e6c844cc button');\n",
              "      quickchartButtonEl.style.display =\n",
              "        google.colab.kernel.accessAllowed ? 'block' : 'none';\n",
              "    })();\n",
              "  </script>\n",
              "</div>\n",
              "    </div>\n",
              "  </div>\n"
            ]
          },
          "metadata": {},
          "execution_count": 106
        }
      ]
    },
    {
      "cell_type": "markdown",
      "source": [
        "Vemos como los datos en conjunto nos dan una descripción de las publicaciones sobre Tailandia hechas en facebook, indicando tipo de publicación, fecha, número de reacciones a la publicación y tipo de reacción."
      ],
      "metadata": {
        "id": "iG5-nDTu4d0q"
      }
    },
    {
      "cell_type": "markdown",
      "source": [
        "# Limpieza de datos:"
      ],
      "metadata": {
        "id": "sdeK4AYJ_BL4"
      }
    },
    {
      "cell_type": "code",
      "source": [
        "face_thai.info()"
      ],
      "metadata": {
        "colab": {
          "base_uri": "https://localhost:8080/"
        },
        "id": "klX97wD2lEFD",
        "outputId": "a408e1b0-733b-4247-ace9-b19b078842f1"
      },
      "execution_count": 107,
      "outputs": [
        {
          "output_type": "stream",
          "name": "stdout",
          "text": [
            "<class 'pandas.core.frame.DataFrame'>\n",
            "RangeIndex: 7050 entries, 0 to 7049\n",
            "Data columns (total 16 columns):\n",
            " #   Column            Non-Null Count  Dtype  \n",
            "---  ------            --------------  -----  \n",
            " 0   status_id         7050 non-null   object \n",
            " 1   status_type       7050 non-null   object \n",
            " 2   status_published  7050 non-null   object \n",
            " 3   num_reactions     7050 non-null   int64  \n",
            " 4   num_comments      7050 non-null   int64  \n",
            " 5   num_shares        7050 non-null   int64  \n",
            " 6   num_likes         7050 non-null   int64  \n",
            " 7   num_loves         7050 non-null   int64  \n",
            " 8   num_wows          7050 non-null   int64  \n",
            " 9   num_hahas         7050 non-null   int64  \n",
            " 10  num_sads          7050 non-null   int64  \n",
            " 11  num_angrys        7050 non-null   int64  \n",
            " 12  Column1           0 non-null      float64\n",
            " 13  Column2           0 non-null      float64\n",
            " 14  Column3           0 non-null      float64\n",
            " 15  Column4           0 non-null      float64\n",
            "dtypes: float64(4), int64(9), object(3)\n",
            "memory usage: 881.4+ KB\n"
          ]
        }
      ]
    },
    {
      "cell_type": "markdown",
      "source": [
        "En cuanto al tipo de las columnas, dentro de las 16 existentes, 3 son de tipo object, 9 de tipo entero y 4 coma flotante. Las 12 primeras no contienen nulos y las cuatro de coma flotante sólo contienen nulos. En total 7050 registros."
      ],
      "metadata": {
        "id": "gcQ1Ry8inC3O"
      }
    },
    {
      "cell_type": "code",
      "source": [
        "objects = ['status_id','status_type','status_published']\n",
        "\n",
        "for i in objects:\n",
        "  print(face_thai[i].dtypes)"
      ],
      "metadata": {
        "colab": {
          "base_uri": "https://localhost:8080/"
        },
        "id": "45cnKFZHlbxx",
        "outputId": "1195759e-de98-4c95-efdd-b1561a4135dc"
      },
      "execution_count": 108,
      "outputs": [
        {
          "output_type": "stream",
          "name": "stdout",
          "text": [
            "object\n",
            "object\n",
            "object\n"
          ]
        }
      ]
    },
    {
      "cell_type": "code",
      "source": [
        "for i in objects:\n",
        "  print(face_thai[i].apply(type).unique())"
      ],
      "metadata": {
        "colab": {
          "base_uri": "https://localhost:8080/"
        },
        "id": "WuTctKzsmG5I",
        "outputId": "550a39da-794c-4252-828f-5ce5e9ab9029"
      },
      "execution_count": 109,
      "outputs": [
        {
          "output_type": "stream",
          "name": "stdout",
          "text": [
            "[<class 'str'>]\n",
            "[<class 'str'>]\n",
            "[<class 'str'>]\n"
          ]
        }
      ]
    },
    {
      "cell_type": "markdown",
      "source": [
        "Más específicamente el tipo de las columnas object es string."
      ],
      "metadata": {
        "id": "al0ESxzMnd-x"
      }
    },
    {
      "cell_type": "markdown",
      "source": [
        "Lo primero que vamos a hacer va a ser eliminar las cuatro `Column`, ya que sólo contienen nulos y no nos aportan información.\n",
        "\n"
      ],
      "metadata": {
        "id": "SPtJqqsioDz1"
      }
    },
    {
      "cell_type": "code",
      "source": [
        "face_thai = face_thai.drop(['Column1', 'Column2', 'Column3', 'Column4'], axis=1)"
      ],
      "metadata": {
        "id": "s9onNOwxoM1Z"
      },
      "execution_count": 110,
      "outputs": []
    },
    {
      "cell_type": "code",
      "source": [
        "face_thai.columns"
      ],
      "metadata": {
        "colab": {
          "base_uri": "https://localhost:8080/"
        },
        "id": "IfS6vZZyofgH",
        "outputId": "2d940b84-8f41-462d-f26e-4617527851f0"
      },
      "execution_count": 111,
      "outputs": [
        {
          "output_type": "execute_result",
          "data": {
            "text/plain": [
              "Index(['status_id', 'status_type', 'status_published', 'num_reactions',\n",
              "       'num_comments', 'num_shares', 'num_likes', 'num_loves', 'num_wows',\n",
              "       'num_hahas', 'num_sads', 'num_angrys'],\n",
              "      dtype='object')"
            ]
          },
          "metadata": {},
          "execution_count": 111
        }
      ]
    },
    {
      "cell_type": "markdown",
      "source": [
        "Ya tenemos face_thai sin columnas nulas."
      ],
      "metadata": {
        "id": "NTmtaWemoqQg"
      }
    },
    {
      "cell_type": "markdown",
      "source": [
        "En segundo lugar, vamos a comprobar los registros duplicados:"
      ],
      "metadata": {
        "id": "kkDMguiL5vd2"
      }
    },
    {
      "cell_type": "code",
      "source": [
        "face_thai.duplicated().value_counts()"
      ],
      "metadata": {
        "colab": {
          "base_uri": "https://localhost:8080/"
        },
        "id": "6L225mCN1zbw",
        "outputId": "0247f6ef-6e5c-4b43-9061-069a9a3a6467"
      },
      "execution_count": 112,
      "outputs": [
        {
          "output_type": "execute_result",
          "data": {
            "text/plain": [
              "False    6999\n",
              "True       51\n",
              "dtype: int64"
            ]
          },
          "metadata": {},
          "execution_count": 112
        }
      ]
    },
    {
      "cell_type": "markdown",
      "source": [
        "Existen 51 registros duplicados, que vamos a eliminar ..."
      ],
      "metadata": {
        "id": "VVJY2PHM2WCd"
      }
    },
    {
      "cell_type": "code",
      "source": [
        "face_thai = face_thai.drop_duplicates()\n",
        "face_thai.duplicated().value_counts()"
      ],
      "metadata": {
        "colab": {
          "base_uri": "https://localhost:8080/"
        },
        "id": "WgPtkSxo2nJq",
        "outputId": "612bbefd-f47f-4ef3-b913-ceece56673dd"
      },
      "execution_count": 113,
      "outputs": [
        {
          "output_type": "execute_result",
          "data": {
            "text/plain": [
              "False    6999\n",
              "dtype: int64"
            ]
          },
          "metadata": {},
          "execution_count": 113
        }
      ]
    },
    {
      "cell_type": "code",
      "source": [
        "face_thai.shape"
      ],
      "metadata": {
        "colab": {
          "base_uri": "https://localhost:8080/"
        },
        "id": "Ikkvrd8S3Dig",
        "outputId": "24a03b66-b564-4431-a298-7f5d0c806a75"
      },
      "execution_count": 114,
      "outputs": [
        {
          "output_type": "execute_result",
          "data": {
            "text/plain": [
              "(6999, 12)"
            ]
          },
          "metadata": {},
          "execution_count": 114
        }
      ]
    },
    {
      "cell_type": "markdown",
      "source": [
        "Para quedarnos con 6999 filas y 12 columnas, ahora ya sin valores nulos ni duplicados."
      ],
      "metadata": {
        "id": "L8zT3vVi3SDG"
      }
    },
    {
      "cell_type": "markdown",
      "source": [
        "Llegados a este punto también podemos eliminar status_id, que no nos aporta información que necesitemos para nuestro análisis:"
      ],
      "metadata": {
        "id": "D-606TuBEbvu"
      }
    },
    {
      "cell_type": "code",
      "source": [
        "face_thai = face_thai.drop('status_id', axis=1)"
      ],
      "metadata": {
        "id": "WvLr1AT8El8q"
      },
      "execution_count": 115,
      "outputs": []
    },
    {
      "cell_type": "markdown",
      "source": [
        "# Descripción estadística de los datos:"
      ],
      "metadata": {
        "id": "y-bIexd3pmdB"
      }
    },
    {
      "cell_type": "markdown",
      "source": [
        "La descripción estadística la adaptaremos según la naturaleza de las columnas y el tipo de datos que contienen. Vamos con ello:"
      ],
      "metadata": {
        "id": "Beml5l_o_P09"
      }
    },
    {
      "cell_type": "markdown",
      "source": [
        "Empezando por `status_type`, el tipo de contenido de la publicación:"
      ],
      "metadata": {
        "id": "6oyVk2Ur6ZKz"
      }
    },
    {
      "cell_type": "code",
      "source": [
        "face_thai.status_type.value_counts()"
      ],
      "metadata": {
        "colab": {
          "base_uri": "https://localhost:8080/"
        },
        "id": "31gEHhcdpOl7",
        "outputId": "ca20b39e-d7c3-41d2-af02-61903d062dd9"
      },
      "execution_count": 116,
      "outputs": [
        {
          "output_type": "execute_result",
          "data": {
            "text/plain": [
              "photo     4244\n",
              "video     2333\n",
              "status     359\n",
              "link        63\n",
              "Name: status_type, dtype: int64"
            ]
          },
          "metadata": {},
          "execution_count": 116
        }
      ]
    },
    {
      "cell_type": "markdown",
      "source": [
        "Tenemos cuatro tipos de contenido: foto, vídeo, status y links, predominando las fotografías: 4244, y los vídeos: 2333, de entre el total de 6999 registros."
      ],
      "metadata": {
        "id": "TqCrUdYAqF3Q"
      }
    },
    {
      "cell_type": "markdown",
      "source": [
        "Seguimos con las `status_published` (fechas):"
      ],
      "metadata": {
        "id": "_NPFLvF86xxH"
      }
    },
    {
      "cell_type": "code",
      "source": [
        "face_thai['status_published'] = pd.to_datetime(face_thai['status_published'])"
      ],
      "metadata": {
        "id": "_kOTKT61qYYf"
      },
      "execution_count": 117,
      "outputs": []
    },
    {
      "cell_type": "markdown",
      "source": [
        "Convertimos el tipo de dato de la columna a fechas, para poder extraer los años de manera fácil:"
      ],
      "metadata": {
        "id": "y0noE6KCrYtX"
      }
    },
    {
      "cell_type": "code",
      "source": [
        "face_thai.status_published.dt.year.value_counts()"
      ],
      "metadata": {
        "colab": {
          "base_uri": "https://localhost:8080/"
        },
        "id": "kR1tflOsrgPP",
        "outputId": "4838e859-f7a7-49b7-c07a-d2a74d299763"
      },
      "execution_count": 118,
      "outputs": [
        {
          "output_type": "execute_result",
          "data": {
            "text/plain": [
              "2018    2499\n",
              "2017    2253\n",
              "2012     589\n",
              "2016     588\n",
              "2013     500\n",
              "2015     337\n",
              "2014     233\n",
              "Name: status_published, dtype: int64"
            ]
          },
          "metadata": {},
          "execution_count": 118
        }
      ]
    },
    {
      "cell_type": "markdown",
      "source": [
        "... y vemos como todas las publicaciones se sitúan entre 2014 y 2018, predominando las publicaciones para los dos últimos años: 2017 (2253) y 2018 (2499)."
      ],
      "metadata": {
        "id": "H3eUQ2wXr1hm"
      }
    },
    {
      "cell_type": "markdown",
      "source": [
        "Las columnas de tipo int las parametrizamos con describe():"
      ],
      "metadata": {
        "id": "t-6fV535sOn1"
      }
    },
    {
      "cell_type": "code",
      "source": [
        "enteras = []\n",
        "\n",
        "for x in face_thai:\n",
        "  if (face_thai[x].dtypes == 'int64'):\n",
        "    enteras.append(x)\n",
        "\n",
        "face_thai[enteras].describe().round(2)"
      ],
      "metadata": {
        "colab": {
          "base_uri": "https://localhost:8080/",
          "height": 300
        },
        "id": "01dw2ag8sZbX",
        "outputId": "28df5783-6529-42f6-e974-297b36f77952"
      },
      "execution_count": 119,
      "outputs": [
        {
          "output_type": "execute_result",
          "data": {
            "text/plain": [
              "       num_reactions  num_comments  num_shares  num_likes  num_loves  \\\n",
              "count        6999.00       6999.00     6999.00    6999.00    6999.00   \n",
              "mean          224.99        225.55       40.26     209.95      12.75   \n",
              "std           452.88        892.74      132.05     439.55      40.11   \n",
              "min             0.00          0.00        0.00       0.00       0.00   \n",
              "25%            17.00          0.00        0.00      17.00       0.00   \n",
              "50%            58.00          4.00        0.00      57.00       0.00   \n",
              "75%           216.00         22.00        4.00     182.00       3.00   \n",
              "max          4710.00      20990.00     3424.00    4710.00     657.00   \n",
              "\n",
              "       num_wows  num_hahas  num_sads  num_angrys  \n",
              "count   6999.00    6999.00   6999.00     6999.00  \n",
              "mean       1.25       0.70      0.23        0.11  \n",
              "std        8.73       3.97      1.48        0.69  \n",
              "min        0.00       0.00      0.00        0.00  \n",
              "25%        0.00       0.00      0.00        0.00  \n",
              "50%        0.00       0.00      0.00        0.00  \n",
              "75%        0.00       0.00      0.00        0.00  \n",
              "max      278.00     157.00     51.00       31.00  "
            ],
            "text/html": [
              "\n",
              "  <div id=\"df-f1a7ac6d-d857-4a99-8358-44affe090ca3\" class=\"colab-df-container\">\n",
              "    <div>\n",
              "<style scoped>\n",
              "    .dataframe tbody tr th:only-of-type {\n",
              "        vertical-align: middle;\n",
              "    }\n",
              "\n",
              "    .dataframe tbody tr th {\n",
              "        vertical-align: top;\n",
              "    }\n",
              "\n",
              "    .dataframe thead th {\n",
              "        text-align: right;\n",
              "    }\n",
              "</style>\n",
              "<table border=\"1\" class=\"dataframe\">\n",
              "  <thead>\n",
              "    <tr style=\"text-align: right;\">\n",
              "      <th></th>\n",
              "      <th>num_reactions</th>\n",
              "      <th>num_comments</th>\n",
              "      <th>num_shares</th>\n",
              "      <th>num_likes</th>\n",
              "      <th>num_loves</th>\n",
              "      <th>num_wows</th>\n",
              "      <th>num_hahas</th>\n",
              "      <th>num_sads</th>\n",
              "      <th>num_angrys</th>\n",
              "    </tr>\n",
              "  </thead>\n",
              "  <tbody>\n",
              "    <tr>\n",
              "      <th>count</th>\n",
              "      <td>6999.00</td>\n",
              "      <td>6999.00</td>\n",
              "      <td>6999.00</td>\n",
              "      <td>6999.00</td>\n",
              "      <td>6999.00</td>\n",
              "      <td>6999.00</td>\n",
              "      <td>6999.00</td>\n",
              "      <td>6999.00</td>\n",
              "      <td>6999.00</td>\n",
              "    </tr>\n",
              "    <tr>\n",
              "      <th>mean</th>\n",
              "      <td>224.99</td>\n",
              "      <td>225.55</td>\n",
              "      <td>40.26</td>\n",
              "      <td>209.95</td>\n",
              "      <td>12.75</td>\n",
              "      <td>1.25</td>\n",
              "      <td>0.70</td>\n",
              "      <td>0.23</td>\n",
              "      <td>0.11</td>\n",
              "    </tr>\n",
              "    <tr>\n",
              "      <th>std</th>\n",
              "      <td>452.88</td>\n",
              "      <td>892.74</td>\n",
              "      <td>132.05</td>\n",
              "      <td>439.55</td>\n",
              "      <td>40.11</td>\n",
              "      <td>8.73</td>\n",
              "      <td>3.97</td>\n",
              "      <td>1.48</td>\n",
              "      <td>0.69</td>\n",
              "    </tr>\n",
              "    <tr>\n",
              "      <th>min</th>\n",
              "      <td>0.00</td>\n",
              "      <td>0.00</td>\n",
              "      <td>0.00</td>\n",
              "      <td>0.00</td>\n",
              "      <td>0.00</td>\n",
              "      <td>0.00</td>\n",
              "      <td>0.00</td>\n",
              "      <td>0.00</td>\n",
              "      <td>0.00</td>\n",
              "    </tr>\n",
              "    <tr>\n",
              "      <th>25%</th>\n",
              "      <td>17.00</td>\n",
              "      <td>0.00</td>\n",
              "      <td>0.00</td>\n",
              "      <td>17.00</td>\n",
              "      <td>0.00</td>\n",
              "      <td>0.00</td>\n",
              "      <td>0.00</td>\n",
              "      <td>0.00</td>\n",
              "      <td>0.00</td>\n",
              "    </tr>\n",
              "    <tr>\n",
              "      <th>50%</th>\n",
              "      <td>58.00</td>\n",
              "      <td>4.00</td>\n",
              "      <td>0.00</td>\n",
              "      <td>57.00</td>\n",
              "      <td>0.00</td>\n",
              "      <td>0.00</td>\n",
              "      <td>0.00</td>\n",
              "      <td>0.00</td>\n",
              "      <td>0.00</td>\n",
              "    </tr>\n",
              "    <tr>\n",
              "      <th>75%</th>\n",
              "      <td>216.00</td>\n",
              "      <td>22.00</td>\n",
              "      <td>4.00</td>\n",
              "      <td>182.00</td>\n",
              "      <td>3.00</td>\n",
              "      <td>0.00</td>\n",
              "      <td>0.00</td>\n",
              "      <td>0.00</td>\n",
              "      <td>0.00</td>\n",
              "    </tr>\n",
              "    <tr>\n",
              "      <th>max</th>\n",
              "      <td>4710.00</td>\n",
              "      <td>20990.00</td>\n",
              "      <td>3424.00</td>\n",
              "      <td>4710.00</td>\n",
              "      <td>657.00</td>\n",
              "      <td>278.00</td>\n",
              "      <td>157.00</td>\n",
              "      <td>51.00</td>\n",
              "      <td>31.00</td>\n",
              "    </tr>\n",
              "  </tbody>\n",
              "</table>\n",
              "</div>\n",
              "    <div class=\"colab-df-buttons\">\n",
              "\n",
              "  <div class=\"colab-df-container\">\n",
              "    <button class=\"colab-df-convert\" onclick=\"convertToInteractive('df-f1a7ac6d-d857-4a99-8358-44affe090ca3')\"\n",
              "            title=\"Convert this dataframe to an interactive table.\"\n",
              "            style=\"display:none;\">\n",
              "\n",
              "  <svg xmlns=\"http://www.w3.org/2000/svg\" height=\"24px\" viewBox=\"0 -960 960 960\">\n",
              "    <path d=\"M120-120v-720h720v720H120Zm60-500h600v-160H180v160Zm220 220h160v-160H400v160Zm0 220h160v-160H400v160ZM180-400h160v-160H180v160Zm440 0h160v-160H620v160ZM180-180h160v-160H180v160Zm440 0h160v-160H620v160Z\"/>\n",
              "  </svg>\n",
              "    </button>\n",
              "\n",
              "  <style>\n",
              "    .colab-df-container {\n",
              "      display:flex;\n",
              "      gap: 12px;\n",
              "    }\n",
              "\n",
              "    .colab-df-convert {\n",
              "      background-color: #E8F0FE;\n",
              "      border: none;\n",
              "      border-radius: 50%;\n",
              "      cursor: pointer;\n",
              "      display: none;\n",
              "      fill: #1967D2;\n",
              "      height: 32px;\n",
              "      padding: 0 0 0 0;\n",
              "      width: 32px;\n",
              "    }\n",
              "\n",
              "    .colab-df-convert:hover {\n",
              "      background-color: #E2EBFA;\n",
              "      box-shadow: 0px 1px 2px rgba(60, 64, 67, 0.3), 0px 1px 3px 1px rgba(60, 64, 67, 0.15);\n",
              "      fill: #174EA6;\n",
              "    }\n",
              "\n",
              "    .colab-df-buttons div {\n",
              "      margin-bottom: 4px;\n",
              "    }\n",
              "\n",
              "    [theme=dark] .colab-df-convert {\n",
              "      background-color: #3B4455;\n",
              "      fill: #D2E3FC;\n",
              "    }\n",
              "\n",
              "    [theme=dark] .colab-df-convert:hover {\n",
              "      background-color: #434B5C;\n",
              "      box-shadow: 0px 1px 3px 1px rgba(0, 0, 0, 0.15);\n",
              "      filter: drop-shadow(0px 1px 2px rgba(0, 0, 0, 0.3));\n",
              "      fill: #FFFFFF;\n",
              "    }\n",
              "  </style>\n",
              "\n",
              "    <script>\n",
              "      const buttonEl =\n",
              "        document.querySelector('#df-f1a7ac6d-d857-4a99-8358-44affe090ca3 button.colab-df-convert');\n",
              "      buttonEl.style.display =\n",
              "        google.colab.kernel.accessAllowed ? 'block' : 'none';\n",
              "\n",
              "      async function convertToInteractive(key) {\n",
              "        const element = document.querySelector('#df-f1a7ac6d-d857-4a99-8358-44affe090ca3');\n",
              "        const dataTable =\n",
              "          await google.colab.kernel.invokeFunction('convertToInteractive',\n",
              "                                                    [key], {});\n",
              "        if (!dataTable) return;\n",
              "\n",
              "        const docLinkHtml = 'Like what you see? Visit the ' +\n",
              "          '<a target=\"_blank\" href=https://colab.research.google.com/notebooks/data_table.ipynb>data table notebook</a>'\n",
              "          + ' to learn more about interactive tables.';\n",
              "        element.innerHTML = '';\n",
              "        dataTable['output_type'] = 'display_data';\n",
              "        await google.colab.output.renderOutput(dataTable, element);\n",
              "        const docLink = document.createElement('div');\n",
              "        docLink.innerHTML = docLinkHtml;\n",
              "        element.appendChild(docLink);\n",
              "      }\n",
              "    </script>\n",
              "  </div>\n",
              "\n",
              "\n",
              "<div id=\"df-bb16d51d-36a9-4af4-9190-7789dd1dd443\">\n",
              "  <button class=\"colab-df-quickchart\" onclick=\"quickchart('df-bb16d51d-36a9-4af4-9190-7789dd1dd443')\"\n",
              "            title=\"Suggest charts\"\n",
              "            style=\"display:none;\">\n",
              "\n",
              "<svg xmlns=\"http://www.w3.org/2000/svg\" height=\"24px\"viewBox=\"0 0 24 24\"\n",
              "     width=\"24px\">\n",
              "    <g>\n",
              "        <path d=\"M19 3H5c-1.1 0-2 .9-2 2v14c0 1.1.9 2 2 2h14c1.1 0 2-.9 2-2V5c0-1.1-.9-2-2-2zM9 17H7v-7h2v7zm4 0h-2V7h2v10zm4 0h-2v-4h2v4z\"/>\n",
              "    </g>\n",
              "</svg>\n",
              "  </button>\n",
              "\n",
              "<style>\n",
              "  .colab-df-quickchart {\n",
              "      --bg-color: #E8F0FE;\n",
              "      --fill-color: #1967D2;\n",
              "      --hover-bg-color: #E2EBFA;\n",
              "      --hover-fill-color: #174EA6;\n",
              "      --disabled-fill-color: #AAA;\n",
              "      --disabled-bg-color: #DDD;\n",
              "  }\n",
              "\n",
              "  [theme=dark] .colab-df-quickchart {\n",
              "      --bg-color: #3B4455;\n",
              "      --fill-color: #D2E3FC;\n",
              "      --hover-bg-color: #434B5C;\n",
              "      --hover-fill-color: #FFFFFF;\n",
              "      --disabled-bg-color: #3B4455;\n",
              "      --disabled-fill-color: #666;\n",
              "  }\n",
              "\n",
              "  .colab-df-quickchart {\n",
              "    background-color: var(--bg-color);\n",
              "    border: none;\n",
              "    border-radius: 50%;\n",
              "    cursor: pointer;\n",
              "    display: none;\n",
              "    fill: var(--fill-color);\n",
              "    height: 32px;\n",
              "    padding: 0;\n",
              "    width: 32px;\n",
              "  }\n",
              "\n",
              "  .colab-df-quickchart:hover {\n",
              "    background-color: var(--hover-bg-color);\n",
              "    box-shadow: 0 1px 2px rgba(60, 64, 67, 0.3), 0 1px 3px 1px rgba(60, 64, 67, 0.15);\n",
              "    fill: var(--button-hover-fill-color);\n",
              "  }\n",
              "\n",
              "  .colab-df-quickchart-complete:disabled,\n",
              "  .colab-df-quickchart-complete:disabled:hover {\n",
              "    background-color: var(--disabled-bg-color);\n",
              "    fill: var(--disabled-fill-color);\n",
              "    box-shadow: none;\n",
              "  }\n",
              "\n",
              "  .colab-df-spinner {\n",
              "    border: 2px solid var(--fill-color);\n",
              "    border-color: transparent;\n",
              "    border-bottom-color: var(--fill-color);\n",
              "    animation:\n",
              "      spin 1s steps(1) infinite;\n",
              "  }\n",
              "\n",
              "  @keyframes spin {\n",
              "    0% {\n",
              "      border-color: transparent;\n",
              "      border-bottom-color: var(--fill-color);\n",
              "      border-left-color: var(--fill-color);\n",
              "    }\n",
              "    20% {\n",
              "      border-color: transparent;\n",
              "      border-left-color: var(--fill-color);\n",
              "      border-top-color: var(--fill-color);\n",
              "    }\n",
              "    30% {\n",
              "      border-color: transparent;\n",
              "      border-left-color: var(--fill-color);\n",
              "      border-top-color: var(--fill-color);\n",
              "      border-right-color: var(--fill-color);\n",
              "    }\n",
              "    40% {\n",
              "      border-color: transparent;\n",
              "      border-right-color: var(--fill-color);\n",
              "      border-top-color: var(--fill-color);\n",
              "    }\n",
              "    60% {\n",
              "      border-color: transparent;\n",
              "      border-right-color: var(--fill-color);\n",
              "    }\n",
              "    80% {\n",
              "      border-color: transparent;\n",
              "      border-right-color: var(--fill-color);\n",
              "      border-bottom-color: var(--fill-color);\n",
              "    }\n",
              "    90% {\n",
              "      border-color: transparent;\n",
              "      border-bottom-color: var(--fill-color);\n",
              "    }\n",
              "  }\n",
              "</style>\n",
              "\n",
              "  <script>\n",
              "    async function quickchart(key) {\n",
              "      const quickchartButtonEl =\n",
              "        document.querySelector('#' + key + ' button');\n",
              "      quickchartButtonEl.disabled = true;  // To prevent multiple clicks.\n",
              "      quickchartButtonEl.classList.add('colab-df-spinner');\n",
              "      try {\n",
              "        const charts = await google.colab.kernel.invokeFunction(\n",
              "            'suggestCharts', [key], {});\n",
              "      } catch (error) {\n",
              "        console.error('Error during call to suggestCharts:', error);\n",
              "      }\n",
              "      quickchartButtonEl.classList.remove('colab-df-spinner');\n",
              "      quickchartButtonEl.classList.add('colab-df-quickchart-complete');\n",
              "    }\n",
              "    (() => {\n",
              "      let quickchartButtonEl =\n",
              "        document.querySelector('#df-bb16d51d-36a9-4af4-9190-7789dd1dd443 button');\n",
              "      quickchartButtonEl.style.display =\n",
              "        google.colab.kernel.accessAllowed ? 'block' : 'none';\n",
              "    })();\n",
              "  </script>\n",
              "</div>\n",
              "    </div>\n",
              "  </div>\n"
            ]
          },
          "metadata": {},
          "execution_count": 119
        }
      ]
    },
    {
      "cell_type": "markdown",
      "source": [
        "Vemos como el número medio de reacciones por publicación es de 225, de entre las cuales en media y redondeando 210 son likes, 13 loves, 1 wows, 1 hahas, 0 angrys y 0 sads. Mientras la media de comentarios está en 226, con rango entre 0 y 20990, con sesgo positivo y mediana en 4 comentarios por publicación. El nº de shares tiene la media en 40, pero la mediana en 0, de nuevo con sesgo positivo.  \n",
        "· En general la distribución es parecida para todas las características de reacción y podemos ver como parece haber una diferencia muy significativa entre algunas publicaciones, muy populares, y las demás, lo que explica los sesgos hacia la derecha.  \n",
        "· Una segunda lectura es que el número de reacciones de carácter positivo es muy superior al número de reacciones de carácter negativo (sads y angrys), prácticamente testimoniales."
      ],
      "metadata": {
        "id": "atBsBxQFvEAk"
      }
    },
    {
      "cell_type": "markdown",
      "source": [
        "# Transformación de los datos:"
      ],
      "metadata": {
        "id": "Rw3c0gkfBMcY"
      }
    },
    {
      "cell_type": "markdown",
      "source": [
        "Primero un breve recordatorio:"
      ],
      "metadata": {
        "id": "FMMQM_ezHs67"
      }
    },
    {
      "cell_type": "code",
      "source": [
        "face_thai.head(1)"
      ],
      "metadata": {
        "colab": {
          "base_uri": "https://localhost:8080/",
          "height": 118
        },
        "id": "-38wCDi-BkRE",
        "outputId": "a646370a-7d3b-4ce3-b41a-96b4462f036d"
      },
      "execution_count": 120,
      "outputs": [
        {
          "output_type": "execute_result",
          "data": {
            "text/plain": [
              "  status_type    status_published  num_reactions  num_comments  num_shares  \\\n",
              "0       video 2018-04-22 06:00:00            529           512         262   \n",
              "\n",
              "   num_likes  num_loves  num_wows  num_hahas  num_sads  num_angrys  \n",
              "0        432         92         3          1         1           0  "
            ],
            "text/html": [
              "\n",
              "  <div id=\"df-b445e373-6da5-4252-84ff-17724871e5b3\" class=\"colab-df-container\">\n",
              "    <div>\n",
              "<style scoped>\n",
              "    .dataframe tbody tr th:only-of-type {\n",
              "        vertical-align: middle;\n",
              "    }\n",
              "\n",
              "    .dataframe tbody tr th {\n",
              "        vertical-align: top;\n",
              "    }\n",
              "\n",
              "    .dataframe thead th {\n",
              "        text-align: right;\n",
              "    }\n",
              "</style>\n",
              "<table border=\"1\" class=\"dataframe\">\n",
              "  <thead>\n",
              "    <tr style=\"text-align: right;\">\n",
              "      <th></th>\n",
              "      <th>status_type</th>\n",
              "      <th>status_published</th>\n",
              "      <th>num_reactions</th>\n",
              "      <th>num_comments</th>\n",
              "      <th>num_shares</th>\n",
              "      <th>num_likes</th>\n",
              "      <th>num_loves</th>\n",
              "      <th>num_wows</th>\n",
              "      <th>num_hahas</th>\n",
              "      <th>num_sads</th>\n",
              "      <th>num_angrys</th>\n",
              "    </tr>\n",
              "  </thead>\n",
              "  <tbody>\n",
              "    <tr>\n",
              "      <th>0</th>\n",
              "      <td>video</td>\n",
              "      <td>2018-04-22 06:00:00</td>\n",
              "      <td>529</td>\n",
              "      <td>512</td>\n",
              "      <td>262</td>\n",
              "      <td>432</td>\n",
              "      <td>92</td>\n",
              "      <td>3</td>\n",
              "      <td>1</td>\n",
              "      <td>1</td>\n",
              "      <td>0</td>\n",
              "    </tr>\n",
              "  </tbody>\n",
              "</table>\n",
              "</div>\n",
              "    <div class=\"colab-df-buttons\">\n",
              "\n",
              "  <div class=\"colab-df-container\">\n",
              "    <button class=\"colab-df-convert\" onclick=\"convertToInteractive('df-b445e373-6da5-4252-84ff-17724871e5b3')\"\n",
              "            title=\"Convert this dataframe to an interactive table.\"\n",
              "            style=\"display:none;\">\n",
              "\n",
              "  <svg xmlns=\"http://www.w3.org/2000/svg\" height=\"24px\" viewBox=\"0 -960 960 960\">\n",
              "    <path d=\"M120-120v-720h720v720H120Zm60-500h600v-160H180v160Zm220 220h160v-160H400v160Zm0 220h160v-160H400v160ZM180-400h160v-160H180v160Zm440 0h160v-160H620v160ZM180-180h160v-160H180v160Zm440 0h160v-160H620v160Z\"/>\n",
              "  </svg>\n",
              "    </button>\n",
              "\n",
              "  <style>\n",
              "    .colab-df-container {\n",
              "      display:flex;\n",
              "      gap: 12px;\n",
              "    }\n",
              "\n",
              "    .colab-df-convert {\n",
              "      background-color: #E8F0FE;\n",
              "      border: none;\n",
              "      border-radius: 50%;\n",
              "      cursor: pointer;\n",
              "      display: none;\n",
              "      fill: #1967D2;\n",
              "      height: 32px;\n",
              "      padding: 0 0 0 0;\n",
              "      width: 32px;\n",
              "    }\n",
              "\n",
              "    .colab-df-convert:hover {\n",
              "      background-color: #E2EBFA;\n",
              "      box-shadow: 0px 1px 2px rgba(60, 64, 67, 0.3), 0px 1px 3px 1px rgba(60, 64, 67, 0.15);\n",
              "      fill: #174EA6;\n",
              "    }\n",
              "\n",
              "    .colab-df-buttons div {\n",
              "      margin-bottom: 4px;\n",
              "    }\n",
              "\n",
              "    [theme=dark] .colab-df-convert {\n",
              "      background-color: #3B4455;\n",
              "      fill: #D2E3FC;\n",
              "    }\n",
              "\n",
              "    [theme=dark] .colab-df-convert:hover {\n",
              "      background-color: #434B5C;\n",
              "      box-shadow: 0px 1px 3px 1px rgba(0, 0, 0, 0.15);\n",
              "      filter: drop-shadow(0px 1px 2px rgba(0, 0, 0, 0.3));\n",
              "      fill: #FFFFFF;\n",
              "    }\n",
              "  </style>\n",
              "\n",
              "    <script>\n",
              "      const buttonEl =\n",
              "        document.querySelector('#df-b445e373-6da5-4252-84ff-17724871e5b3 button.colab-df-convert');\n",
              "      buttonEl.style.display =\n",
              "        google.colab.kernel.accessAllowed ? 'block' : 'none';\n",
              "\n",
              "      async function convertToInteractive(key) {\n",
              "        const element = document.querySelector('#df-b445e373-6da5-4252-84ff-17724871e5b3');\n",
              "        const dataTable =\n",
              "          await google.colab.kernel.invokeFunction('convertToInteractive',\n",
              "                                                    [key], {});\n",
              "        if (!dataTable) return;\n",
              "\n",
              "        const docLinkHtml = 'Like what you see? Visit the ' +\n",
              "          '<a target=\"_blank\" href=https://colab.research.google.com/notebooks/data_table.ipynb>data table notebook</a>'\n",
              "          + ' to learn more about interactive tables.';\n",
              "        element.innerHTML = '';\n",
              "        dataTable['output_type'] = 'display_data';\n",
              "        await google.colab.output.renderOutput(dataTable, element);\n",
              "        const docLink = document.createElement('div');\n",
              "        docLink.innerHTML = docLinkHtml;\n",
              "        element.appendChild(docLink);\n",
              "      }\n",
              "    </script>\n",
              "  </div>\n",
              "\n",
              "    </div>\n",
              "  </div>\n"
            ]
          },
          "metadata": {},
          "execution_count": 120
        }
      ]
    },
    {
      "cell_type": "markdown",
      "source": [
        "Estructura."
      ],
      "metadata": {
        "id": "nHnSaEQyHvff"
      }
    },
    {
      "cell_type": "code",
      "source": [
        "for x in face_thai:\n",
        "  print(x+': '+str(face_thai[x].apply(type).unique()))"
      ],
      "metadata": {
        "colab": {
          "base_uri": "https://localhost:8080/"
        },
        "id": "QCfpYhFYGzAA",
        "outputId": "53c3b3aa-d75c-444a-ef9e-ae737ff40fc4"
      },
      "execution_count": 121,
      "outputs": [
        {
          "output_type": "stream",
          "name": "stdout",
          "text": [
            "status_type: [<class 'str'>]\n",
            "status_published: [<class 'pandas._libs.tslibs.timestamps.Timestamp'>]\n",
            "num_reactions: [<class 'int'>]\n",
            "num_comments: [<class 'int'>]\n",
            "num_shares: [<class 'int'>]\n",
            "num_likes: [<class 'int'>]\n",
            "num_loves: [<class 'int'>]\n",
            "num_wows: [<class 'int'>]\n",
            "num_hahas: [<class 'int'>]\n",
            "num_sads: [<class 'int'>]\n",
            "num_angrys: [<class 'int'>]\n"
          ]
        }
      ]
    },
    {
      "cell_type": "markdown",
      "source": [
        "Tipo de datos."
      ],
      "metadata": {
        "id": "PdM1Y9D8H9fh"
      }
    },
    {
      "cell_type": "markdown",
      "source": [
        "| Tipo de Dato                | Condición           | Transformación Recomendada |\n",
        "|-----------------------------|---------------------|---------------------------|\n",
        "| Datos con Distribución Gaussiana | -                 | `StandardScaler`          |\n",
        "| Datos con Distribución No Gaussiana | Sin Outliers   | `MinMaxScaler`            |\n",
        "| Datos con Distribución No Gaussiana | Con Outliers   | `RobustScaler`            |\n",
        "| Categóricas sin Jerarquía    | -                   | `OneHotEncoder` / `pd.get_dummies()` |\n",
        "| Categóricas con Jerarquía    | -                   | `LabelEncoder`            |\n"
      ],
      "metadata": {
        "id": "6Nowi7AqDDc6"
      }
    },
    {
      "cell_type": "markdown",
      "source": [
        "Tipo de transformaciones adecuadas según la distribución de cada característica."
      ],
      "metadata": {
        "id": "LOM84NPiICm4"
      }
    },
    {
      "cell_type": "markdown",
      "source": [
        "Vamos primero a comprobar si existe alguna columna gaussiana de entre las enteras:"
      ],
      "metadata": {
        "id": "BuqhE2I8BSWs"
      }
    },
    {
      "cell_type": "code",
      "source": [
        "from scipy.stats import shapiro\n",
        "for entera in enteras:\n",
        "  stat, p = shapiro(face_thai[entera])\n",
        "  if p > 0.05:\n",
        "    print(entera+': Gaussiana'+f' - p={p:.3f}')\n",
        "  else:\n",
        "    print(entera+': No gaussiana'+f' - p={p:.3f}')"
      ],
      "metadata": {
        "colab": {
          "base_uri": "https://localhost:8080/"
        },
        "id": "FxBIISDhFfHz",
        "outputId": "fe5c0135-b363-4a13-fd73-8f06d3f0a486"
      },
      "execution_count": 122,
      "outputs": [
        {
          "output_type": "stream",
          "name": "stdout",
          "text": [
            "num_reactions: No gaussiana - p=0.000\n",
            "num_comments: No gaussiana - p=0.000\n",
            "num_shares: No gaussiana - p=0.000\n",
            "num_likes: No gaussiana - p=0.000\n",
            "num_loves: No gaussiana - p=0.000\n",
            "num_wows: No gaussiana - p=0.000\n",
            "num_hahas: No gaussiana - p=0.000\n",
            "num_sads: No gaussiana - p=0.000\n",
            "num_angrys: No gaussiana - p=0.000\n"
          ]
        },
        {
          "output_type": "stream",
          "name": "stderr",
          "text": [
            "/usr/local/lib/python3.10/dist-packages/scipy/stats/_morestats.py:1882: UserWarning: p-value may not be accurate for N > 5000.\n",
            "  warnings.warn(\"p-value may not be accurate for N > 5000.\")\n"
          ]
        }
      ]
    },
    {
      "cell_type": "markdown",
      "source": [
        ":No hay ninguna columna que siga una distribución normal. Sigamos con los valores extremos:"
      ],
      "metadata": {
        "id": "zi7BCY8-I1yy"
      }
    },
    {
      "cell_type": "code",
      "source": [
        "import matplotlib.pyplot as plt\n",
        "import seaborn as sns\n",
        "\n",
        "fig, axes = plt.subplots(3, 3, figsize=(35, 35))\n",
        "axes = axes.flatten()\n",
        "\n",
        "i = 0\n",
        "\n",
        "for e in enteras:\n",
        "  sns.boxplot(face_thai[e], ax=axes[i], orient='h')\n",
        "  axes[i].set_title(e, fontsize=25)\n",
        "  axes[i].set_xlabel('')\n",
        "  axes[i].set_ylabel('')\n",
        "  axes[i].set_xticks([])\n",
        "  axes[i].set_yticks([])\n",
        "  i +=1"
      ],
      "metadata": {
        "colab": {
          "base_uri": "https://localhost:8080/",
          "height": 925
        },
        "id": "xYCSO-NbJOX6",
        "outputId": "0f91fa9a-4fbf-48db-cd7a-4d630a44303b"
      },
      "execution_count": 123,
      "outputs": [
        {
          "output_type": "display_data",
          "data": {
            "text/plain": [
              "<Figure size 3500x3500 with 9 Axes>"
            ],
            "image/png": "[encoded data removed]"
          },
          "metadata": {}
        }
      ]
    },
    {
      "cell_type": "markdown",
      "source": [
        "Todas las columnas de tipo entero contienen outliers, y por lo tanto aplicamos `RobustScaler`:"
      ],
      "metadata": {
        "id": "p5iAwySmKF8W"
      }
    },
    {
      "cell_type": "code",
      "source": [
        "from sklearn.preprocessing import RobustScaler\n",
        "\n",
        "scaler = RobustScaler()\n",
        "\n",
        "for e in enteras:\n",
        "  face_thai[e] = scaler.fit_transform(face_thai[[e]])"
      ],
      "metadata": {
        "id": "Itu71aVu3RRQ"
      },
      "execution_count": 124,
      "outputs": []
    },
    {
      "cell_type": "markdown",
      "source": [
        "Mientras que a la columna `status_type` le aplicaremos one-hot encoder, para convertirla en cuatro variables dummy."
      ],
      "metadata": {
        "id": "nu4PkP795ZNt"
      }
    },
    {
      "cell_type": "code",
      "source": [
        "from sklearn.preprocessing import OneHotEncoder\n",
        "\n",
        "scaler = OneHotEncoder()\n",
        "\n",
        "tipos = scaler.fit_transform(face_thai[['status_type']])\n",
        "tipos_df = pd.DataFrame(tipos.toarray(), columns=scaler.get_feature_names_out(['status_type']))\n",
        "face_thai = face_thai.join(tipos_df).drop('status_type', axis=1)"
      ],
      "metadata": {
        "id": "udpuFyhu6eUJ"
      },
      "execution_count": 126,
      "outputs": []
    },
    {
      "cell_type": "code",
      "source": [
        "face_thai.info()"
      ],
      "metadata": {
        "colab": {
          "base_uri": "https://localhost:8080/"
        },
        "id": "opUN39MGItp4",
        "outputId": "7f79765d-4890-4b2a-ffe4-d7b609c23bb1"
      },
      "execution_count": 136,
      "outputs": [
        {
          "output_type": "stream",
          "name": "stdout",
          "text": [
            "<class 'pandas.core.frame.DataFrame'>\n",
            "Int64Index: 6999 entries, 0 to 7049\n",
            "Data columns (total 18 columns):\n",
            " #   Column              Non-Null Count  Dtype\n",
            "---  ------              --------------  -----\n",
            " 0   num_reactions       6999 non-null   int64\n",
            " 1   num_comments        6999 non-null   int64\n",
            " 2   num_shares          6999 non-null   int64\n",
            " 3   num_likes           6999 non-null   int64\n",
            " 4   num_loves           6999 non-null   int64\n",
            " 5   num_wows            6999 non-null   int64\n",
            " 6   num_hahas           6999 non-null   int64\n",
            " 7   num_sads            6999 non-null   int64\n",
            " 8   num_angrys          6999 non-null   int64\n",
            " 9   status_type_link    6999 non-null   int64\n",
            " 10  status_type_photo   6999 non-null   int64\n",
            " 11  status_type_status  6999 non-null   int64\n",
            " 12  status_type_video   6999 non-null   int64\n",
            " 13  year                6999 non-null   int64\n",
            " 14  month               6999 non-null   int64\n",
            " 15  day                 6999 non-null   int64\n",
            " 16  hour                6999 non-null   int64\n",
            " 17  dayofweek           6999 non-null   int64\n",
            "dtypes: int64(18)\n",
            "memory usage: 1.3 MB\n"
          ]
        }
      ]
    },
    {
      "cell_type": "markdown",
      "source": [
        "Ahora ya tenemos `status_type` convertida en dummies y desglosada en 4 columnas."
      ],
      "metadata": {
        "id": "PiLdfV9OKMEQ"
      }
    },
    {
      "cell_type": "markdown",
      "source": [
        "Nos queda la variable `status_published`, la cual desagrupamos en 5 columnas correspondientes al año, mes, día hora y día de la semana de la publicación:"
      ],
      "metadata": {
        "id": "Lx8MLOccLDmv"
      }
    },
    {
      "cell_type": "code",
      "source": [
        "face_thai['year'] = face_thai.status_published.dt.year\n",
        "face_thai['month'] = face_thai.status_published.dt.month\n",
        "face_thai['day'] = face_thai.status_published.dt.day\n",
        "face_thai['hour'] = face_thai.status_published.dt.hour\n",
        "face_thai['dayofweek'] = face_thai.status_published.dt.dayofweek"
      ],
      "metadata": {
        "id": "7EJLZqC3-fSX"
      },
      "execution_count": 129,
      "outputs": []
    },
    {
      "cell_type": "markdown",
      "source": [
        "Ya podemos eliminar la columna `status_published`:"
      ],
      "metadata": {
        "id": "f8QKbhs8cXr9"
      }
    },
    {
      "cell_type": "code",
      "source": [
        "face_thai = face_thai.drop('status_published', axis=1)"
      ],
      "metadata": {
        "id": "zhUs0-HMAApV"
      },
      "execution_count": 130,
      "outputs": []
    },
    {
      "cell_type": "markdown",
      "source": [
        "Veamos lo que tenemos hasta aquí ..."
      ],
      "metadata": {
        "id": "LnIghgGKcimP"
      }
    },
    {
      "cell_type": "code",
      "source": [
        "face_thai.info()"
      ],
      "metadata": {
        "colab": {
          "base_uri": "https://localhost:8080/"
        },
        "id": "_WWnO-vVLOb-",
        "outputId": "7b1df44d-bf1a-4070-8191-d3ba3e076e31"
      },
      "execution_count": 131,
      "outputs": [
        {
          "output_type": "stream",
          "name": "stdout",
          "text": [
            "<class 'pandas.core.frame.DataFrame'>\n",
            "Int64Index: 6999 entries, 0 to 7049\n",
            "Data columns (total 18 columns):\n",
            " #   Column              Non-Null Count  Dtype  \n",
            "---  ------              --------------  -----  \n",
            " 0   num_reactions       6999 non-null   float64\n",
            " 1   num_comments        6999 non-null   float64\n",
            " 2   num_shares          6999 non-null   float64\n",
            " 3   num_likes           6999 non-null   float64\n",
            " 4   num_loves           6999 non-null   float64\n",
            " 5   num_wows            6999 non-null   float64\n",
            " 6   num_hahas           6999 non-null   float64\n",
            " 7   num_sads            6999 non-null   float64\n",
            " 8   num_angrys          6999 non-null   float64\n",
            " 9   status_type_link    6999 non-null   float64\n",
            " 10  status_type_photo   6999 non-null   float64\n",
            " 11  status_type_status  6999 non-null   float64\n",
            " 12  status_type_video   6999 non-null   float64\n",
            " 13  year                6999 non-null   int64  \n",
            " 14  month               6999 non-null   int64  \n",
            " 15  day                 6999 non-null   int64  \n",
            " 16  hour                6999 non-null   int64  \n",
            " 17  dayofweek           6999 non-null   int64  \n",
            "dtypes: float64(13), int64(5)\n",
            "memory usage: 1.3 MB\n"
          ]
        }
      ]
    },
    {
      "cell_type": "markdown",
      "source": [
        "... podemos convertir el tipo de todas las variables a entero (en pos de la eficiencia):"
      ],
      "metadata": {
        "id": "_vsVNZ2VLodI"
      }
    },
    {
      "cell_type": "code",
      "source": [
        "for x in face_thai:\n",
        "  if face_thai[x].dtype == 'float64':\n",
        "    face_thai[x] = face_thai[x].astype('int64')"
      ],
      "metadata": {
        "id": "Vwaut-4CBUMp"
      },
      "execution_count": 132,
      "outputs": []
    },
    {
      "cell_type": "code",
      "source": [
        "face_thai.dtypes"
      ],
      "metadata": {
        "colab": {
          "base_uri": "https://localhost:8080/"
        },
        "id": "JLcd8Kc3MV9L",
        "outputId": "7aea21e8-458d-4492-a332-1caba5d3bd3b"
      },
      "execution_count": 133,
      "outputs": [
        {
          "output_type": "execute_result",
          "data": {
            "text/plain": [
              "num_reactions         int64\n",
              "num_comments          int64\n",
              "num_shares            int64\n",
              "num_likes             int64\n",
              "num_loves             int64\n",
              "num_wows              int64\n",
              "num_hahas             int64\n",
              "num_sads              int64\n",
              "num_angrys            int64\n",
              "status_type_link      int64\n",
              "status_type_photo     int64\n",
              "status_type_status    int64\n",
              "status_type_video     int64\n",
              "year                  int64\n",
              "month                 int64\n",
              "day                   int64\n",
              "hour                  int64\n",
              "dayofweek             int64\n",
              "dtype: object"
            ]
          },
          "metadata": {},
          "execution_count": 133
        }
      ]
    },
    {
      "cell_type": "markdown",
      "source": [
        "... y listo, ahora ya tenemos todos los datos transformados y solamente las columnas necesarias en nuestro dataset en formato entero."
      ],
      "metadata": {
        "id": "hBCJY7KkNa9M"
      }
    },
    {
      "cell_type": "markdown",
      "source": [
        "# PCA"
      ],
      "metadata": {
        "id": "DmbzuobK1I_L"
      }
    },
    {
      "cell_type": "markdown",
      "source": [
        "Es el momento de aplicar el análisis de componentes (PCA) para reducir las dimensiones de nuestro dataset `face_thai`"
      ],
      "metadata": {
        "id": "nU9GV3Uz1MYu"
      }
    },
    {
      "cell_type": "markdown",
      "source": [
        "El primer paso es visualizar la varianza explicada del dataset según el nº de componentes utilizados. Se considera que explicar a partir de un 85% de la varianza con los nuevos componentes puede ser suficiente."
      ],
      "metadata": {
        "id": "1FaxJm3424sR"
      }
    },
    {
      "cell_type": "code",
      "source": [
        "import numpy as np\n",
        "from sklearn.decomposition import PCA"
      ],
      "metadata": {
        "id": "dnkU4aTp3mw0"
      },
      "execution_count": null,
      "outputs": []
    },
    {
      "cell_type": "code",
      "source": [
        "pca = PCA().fit(face_thai)\n",
        "fig, ax = plt.subplots(figsize=(4, 3))\n",
        "ax.plot(np.cumsum(pca.explained_variance_ratio_), color='black', lw=1)\n",
        "ax.set_xticks(range(0,18))\n",
        "ax.set_title('face_thai_pca')\n",
        "ax.set_xlabel('number of components')\n",
        "ax.set_ylabel('cumulative explained variance');\n",
        "plt.grid(True)\n",
        "plt.show()"
      ],
      "metadata": {
        "colab": {
          "base_uri": "https://localhost:8080/",
          "height": 333
        },
        "id": "ii3-bvHX1DsF",
        "outputId": "92297204-14b0-4e45-e7f7-e2a63439c5be"
      },
      "execution_count": 143,
      "outputs": [
        {
          "output_type": "display_data",
          "data": {
            "text/plain": [
              "<Figure size 400x300 with 1 Axes>"
            ],
            "image/png": "[encoded data removed]"
          },
          "metadata": {}
        }
      ]
    },
    {
      "cell_type": "markdown",
      "source": [
        "Podemos observar tanto por 1 de varianza que explica cada componente. Pero necesitamos una medida del total de la varianza explica según el número de componentes que utilicemos:"
      ],
      "metadata": {
        "id": "2oCG41vg7bo4"
      }
    },
    {
      "cell_type": "code",
      "source": [
        "for x in range(1,11):\n",
        "  pca = PCA(n_components=x)\n",
        "  pca_array = pca.fit_transform(face_thai)\n",
        "  face_thai_pca = pd.DataFrame(data=pca_array)\n",
        "  face_thai_pca.columns = ['PC' + str(col+1) for col in face_thai_pca.columns.values]\n",
        "  if (x == 1):\n",
        "    print(str(x)+' componente: '+str(sum(pca.explained_variance_ratio_).round(3)))\n",
        "  else:\n",
        "    print(str(x)+' componentes: '+str(sum(pca.explained_variance_ratio_).round(3)))"
      ],
      "metadata": {
        "id": "TcRYlKgD7sG-",
        "colab": {
          "base_uri": "https://localhost:8080/"
        },
        "outputId": "d0d630fe-f839-47be-8dcc-80e869dfa9a1"
      },
      "execution_count": 155,
      "outputs": [
        {
          "output_type": "stream",
          "name": "stdout",
          "text": [
            "1 componente: 0.748\n",
            "2 componentes: 0.911\n",
            "3 componentes: 0.935\n",
            "4 componentes: 0.958\n",
            "5 componentes: 0.973\n",
            "6 componentes: 0.986\n",
            "7 componentes: 0.99\n",
            "8 componentes: 0.994\n",
            "9 componentes: 0.997\n",
            "10 componentes: 0.998\n"
          ]
        }
      ]
    },
    {
      "cell_type": "markdown",
      "source": [
        "Aquí ya sí podemos ver claramente como es con 2 componentes que podemos explicar más de un 85% de la varianza, y aunque cabría ser más precisos, para el caso es suficiente."
      ],
      "metadata": {
        "id": "LnpfSRuFipMr"
      }
    },
    {
      "cell_type": "markdown",
      "source": [
        "Aplicamos PCA con 2 componentes:"
      ],
      "metadata": {
        "id": "09eyvOO8jb3B"
      }
    },
    {
      "cell_type": "code",
      "source": [
        "pca = PCA(n_components=2)\n",
        "pca_array = pca.fit_transform(face_thai)\n",
        "face_thai_pca = pd.DataFrame(data=pca_array)\n",
        "face_thai_pca.columns = ['PC' + str(col+1) for col in face_thai_pca.columns.values]"
      ],
      "metadata": {
        "id": "wxutiCiajMhK"
      },
      "execution_count": 157,
      "outputs": []
    },
    {
      "cell_type": "markdown",
      "source": [
        "Comprobamos la varianza explicada:"
      ],
      "metadata": {
        "id": "E31h2r6TjfUe"
      }
    },
    {
      "cell_type": "code",
      "source": [
        "print('Varianza explicada por nuestro PCA: '+str(sum(pca.explained_variance_ratio_).round(3)))"
      ],
      "metadata": {
        "colab": {
          "base_uri": "https://localhost:8080/"
        },
        "id": "L_t8y9_4jntu",
        "outputId": "34f2d83a-5449-46e8-9f56-e4f8531ee99c"
      },
      "execution_count": 159,
      "outputs": [
        {
          "output_type": "stream",
          "name": "stdout",
          "text": [
            "Varianza explicada: 0.911\n"
          ]
        }
      ]
    },
    {
      "cell_type": "markdown",
      "source": [
        "A modo de muestra, estos son los 5 primeros registros del dataframe que tenemos guardado en face_thai_pca:"
      ],
      "metadata": {
        "id": "UPeqWAgjkTiQ"
      }
    },
    {
      "cell_type": "code",
      "source": [
        "face_thai_pca.head()"
      ],
      "metadata": {
        "colab": {
          "base_uri": "https://localhost:8080/",
          "height": 206
        },
        "id": "fVjiUEkFDNUx",
        "outputId": "ccc7bbc3-2a1a-4dae-f126-1504fbf12023"
      },
      "execution_count": null,
      "outputs": [
        {
          "output_type": "execute_result",
          "data": {
            "text/plain": [
              "         PC1        PC2\n",
              "0  47.841733  38.941372\n",
              "1 -14.563902  -2.550567\n",
              "2   3.010743   3.736632\n",
              "3 -14.502580  -2.127567\n",
              "4 -13.902395  -1.317651"
            ],
            "text/html": [
              "\n",
              "  <div id=\"df-cad7afdb-b64f-4562-9276-99f8fb17416b\" class=\"colab-df-container\">\n",
              "    <div>\n",
              "<style scoped>\n",
              "    .dataframe tbody tr th:only-of-type {\n",
              "        vertical-align: middle;\n",
              "    }\n",
              "\n",
              "    .dataframe tbody tr th {\n",
              "        vertical-align: top;\n",
              "    }\n",
              "\n",
              "    .dataframe thead th {\n",
              "        text-align: right;\n",
              "    }\n",
              "</style>\n",
              "<table border=\"1\" class=\"dataframe\">\n",
              "  <thead>\n",
              "    <tr style=\"text-align: right;\">\n",
              "      <th></th>\n",
              "      <th>PC1</th>\n",
              "      <th>PC2</th>\n",
              "    </tr>\n",
              "  </thead>\n",
              "  <tbody>\n",
              "    <tr>\n",
              "      <th>0</th>\n",
              "      <td>47.841733</td>\n",
              "      <td>38.941372</td>\n",
              "    </tr>\n",
              "    <tr>\n",
              "      <th>1</th>\n",
              "      <td>-14.563902</td>\n",
              "      <td>-2.550567</td>\n",
              "    </tr>\n",
              "    <tr>\n",
              "      <th>2</th>\n",
              "      <td>3.010743</td>\n",
              "      <td>3.736632</td>\n",
              "    </tr>\n",
              "    <tr>\n",
              "      <th>3</th>\n",
              "      <td>-14.502580</td>\n",
              "      <td>-2.127567</td>\n",
              "    </tr>\n",
              "    <tr>\n",
              "      <th>4</th>\n",
              "      <td>-13.902395</td>\n",
              "      <td>-1.317651</td>\n",
              "    </tr>\n",
              "  </tbody>\n",
              "</table>\n",
              "</div>\n",
              "    <div class=\"colab-df-buttons\">\n",
              "\n",
              "  <div class=\"colab-df-container\">\n",
              "    <button class=\"colab-df-convert\" onclick=\"convertToInteractive('df-cad7afdb-b64f-4562-9276-99f8fb17416b')\"\n",
              "            title=\"Convert this dataframe to an interactive table.\"\n",
              "            style=\"display:none;\">\n",
              "\n",
              "  <svg xmlns=\"http://www.w3.org/2000/svg\" height=\"24px\" viewBox=\"0 -960 960 960\">\n",
              "    <path d=\"M120-120v-720h720v720H120Zm60-500h600v-160H180v160Zm220 220h160v-160H400v160Zm0 220h160v-160H400v160ZM180-400h160v-160H180v160Zm440 0h160v-160H620v160ZM180-180h160v-160H180v160Zm440 0h160v-160H620v160Z\"/>\n",
              "  </svg>\n",
              "    </button>\n",
              "\n",
              "  <style>\n",
              "    .colab-df-container {\n",
              "      display:flex;\n",
              "      gap: 12px;\n",
              "    }\n",
              "\n",
              "    .colab-df-convert {\n",
              "      background-color: #E8F0FE;\n",
              "      border: none;\n",
              "      border-radius: 50%;\n",
              "      cursor: pointer;\n",
              "      display: none;\n",
              "      fill: #1967D2;\n",
              "      height: 32px;\n",
              "      padding: 0 0 0 0;\n",
              "      width: 32px;\n",
              "    }\n",
              "\n",
              "    .colab-df-convert:hover {\n",
              "      background-color: #E2EBFA;\n",
              "      box-shadow: 0px 1px 2px rgba(60, 64, 67, 0.3), 0px 1px 3px 1px rgba(60, 64, 67, 0.15);\n",
              "      fill: #174EA6;\n",
              "    }\n",
              "\n",
              "    .colab-df-buttons div {\n",
              "      margin-bottom: 4px;\n",
              "    }\n",
              "\n",
              "    [theme=dark] .colab-df-convert {\n",
              "      background-color: #3B4455;\n",
              "      fill: #D2E3FC;\n",
              "    }\n",
              "\n",
              "    [theme=dark] .colab-df-convert:hover {\n",
              "      background-color: #434B5C;\n",
              "      box-shadow: 0px 1px 3px 1px rgba(0, 0, 0, 0.15);\n",
              "      filter: drop-shadow(0px 1px 2px rgba(0, 0, 0, 0.3));\n",
              "      fill: #FFFFFF;\n",
              "    }\n",
              "  </style>\n",
              "\n",
              "    <script>\n",
              "      const buttonEl =\n",
              "        document.querySelector('#df-cad7afdb-b64f-4562-9276-99f8fb17416b button.colab-df-convert');\n",
              "      buttonEl.style.display =\n",
              "        google.colab.kernel.accessAllowed ? 'block' : 'none';\n",
              "\n",
              "      async function convertToInteractive(key) {\n",
              "        const element = document.querySelector('#df-cad7afdb-b64f-4562-9276-99f8fb17416b');\n",
              "        const dataTable =\n",
              "          await google.colab.kernel.invokeFunction('convertToInteractive',\n",
              "                                                    [key], {});\n",
              "        if (!dataTable) return;\n",
              "\n",
              "        const docLinkHtml = 'Like what you see? Visit the ' +\n",
              "          '<a target=\"_blank\" href=https://colab.research.google.com/notebooks/data_table.ipynb>data table notebook</a>'\n",
              "          + ' to learn more about interactive tables.';\n",
              "        element.innerHTML = '';\n",
              "        dataTable['output_type'] = 'display_data';\n",
              "        await google.colab.output.renderOutput(dataTable, element);\n",
              "        const docLink = document.createElement('div');\n",
              "        docLink.innerHTML = docLinkHtml;\n",
              "        element.appendChild(docLink);\n",
              "      }\n",
              "    </script>\n",
              "  </div>\n",
              "\n",
              "\n",
              "<div id=\"df-23f81f95-4eee-47a1-b9dc-82d6a14891f0\">\n",
              "  <button class=\"colab-df-quickchart\" onclick=\"quickchart('df-23f81f95-4eee-47a1-b9dc-82d6a14891f0')\"\n",
              "            title=\"Suggest charts\"\n",
              "            style=\"display:none;\">\n",
              "\n",
              "<svg xmlns=\"http://www.w3.org/2000/svg\" height=\"24px\"viewBox=\"0 0 24 24\"\n",
              "     width=\"24px\">\n",
              "    <g>\n",
              "        <path d=\"M19 3H5c-1.1 0-2 .9-2 2v14c0 1.1.9 2 2 2h14c1.1 0 2-.9 2-2V5c0-1.1-.9-2-2-2zM9 17H7v-7h2v7zm4 0h-2V7h2v10zm4 0h-2v-4h2v4z\"/>\n",
              "    </g>\n",
              "</svg>\n",
              "  </button>\n",
              "\n",
              "<style>\n",
              "  .colab-df-quickchart {\n",
              "      --bg-color: #E8F0FE;\n",
              "      --fill-color: #1967D2;\n",
              "      --hover-bg-color: #E2EBFA;\n",
              "      --hover-fill-color: #174EA6;\n",
              "      --disabled-fill-color: #AAA;\n",
              "      --disabled-bg-color: #DDD;\n",
              "  }\n",
              "\n",
              "  [theme=dark] .colab-df-quickchart {\n",
              "      --bg-color: #3B4455;\n",
              "      --fill-color: #D2E3FC;\n",
              "      --hover-bg-color: #434B5C;\n",
              "      --hover-fill-color: #FFFFFF;\n",
              "      --disabled-bg-color: #3B4455;\n",
              "      --disabled-fill-color: #666;\n",
              "  }\n",
              "\n",
              "  .colab-df-quickchart {\n",
              "    background-color: var(--bg-color);\n",
              "    border: none;\n",
              "    border-radius: 50%;\n",
              "    cursor: pointer;\n",
              "    display: none;\n",
              "    fill: var(--fill-color);\n",
              "    height: 32px;\n",
              "    padding: 0;\n",
              "    width: 32px;\n",
              "  }\n",
              "\n",
              "  .colab-df-quickchart:hover {\n",
              "    background-color: var(--hover-bg-color);\n",
              "    box-shadow: 0 1px 2px rgba(60, 64, 67, 0.3), 0 1px 3px 1px rgba(60, 64, 67, 0.15);\n",
              "    fill: var(--button-hover-fill-color);\n",
              "  }\n",
              "\n",
              "  .colab-df-quickchart-complete:disabled,\n",
              "  .colab-df-quickchart-complete:disabled:hover {\n",
              "    background-color: var(--disabled-bg-color);\n",
              "    fill: var(--disabled-fill-color);\n",
              "    box-shadow: none;\n",
              "  }\n",
              "\n",
              "  .colab-df-spinner {\n",
              "    border: 2px solid var(--fill-color);\n",
              "    border-color: transparent;\n",
              "    border-bottom-color: var(--fill-color);\n",
              "    animation:\n",
              "      spin 1s steps(1) infinite;\n",
              "  }\n",
              "\n",
              "  @keyframes spin {\n",
              "    0% {\n",
              "      border-color: transparent;\n",
              "      border-bottom-color: var(--fill-color);\n",
              "      border-left-color: var(--fill-color);\n",
              "    }\n",
              "    20% {\n",
              "      border-color: transparent;\n",
              "      border-left-color: var(--fill-color);\n",
              "      border-top-color: var(--fill-color);\n",
              "    }\n",
              "    30% {\n",
              "      border-color: transparent;\n",
              "      border-left-color: var(--fill-color);\n",
              "      border-top-color: var(--fill-color);\n",
              "      border-right-color: var(--fill-color);\n",
              "    }\n",
              "    40% {\n",
              "      border-color: transparent;\n",
              "      border-right-color: var(--fill-color);\n",
              "      border-top-color: var(--fill-color);\n",
              "    }\n",
              "    60% {\n",
              "      border-color: transparent;\n",
              "      border-right-color: var(--fill-color);\n",
              "    }\n",
              "    80% {\n",
              "      border-color: transparent;\n",
              "      border-right-color: var(--fill-color);\n",
              "      border-bottom-color: var(--fill-color);\n",
              "    }\n",
              "    90% {\n",
              "      border-color: transparent;\n",
              "      border-bottom-color: var(--fill-color);\n",
              "    }\n",
              "  }\n",
              "</style>\n",
              "\n",
              "  <script>\n",
              "    async function quickchart(key) {\n",
              "      const quickchartButtonEl =\n",
              "        document.querySelector('#' + key + ' button');\n",
              "      quickchartButtonEl.disabled = true;  // To prevent multiple clicks.\n",
              "      quickchartButtonEl.classList.add('colab-df-spinner');\n",
              "      try {\n",
              "        const charts = await google.colab.kernel.invokeFunction(\n",
              "            'suggestCharts', [key], {});\n",
              "      } catch (error) {\n",
              "        console.error('Error during call to suggestCharts:', error);\n",
              "      }\n",
              "      quickchartButtonEl.classList.remove('colab-df-spinner');\n",
              "      quickchartButtonEl.classList.add('colab-df-quickchart-complete');\n",
              "    }\n",
              "    (() => {\n",
              "      let quickchartButtonEl =\n",
              "        document.querySelector('#df-23f81f95-4eee-47a1-b9dc-82d6a14891f0 button');\n",
              "      quickchartButtonEl.style.display =\n",
              "        google.colab.kernel.accessAllowed ? 'block' : 'none';\n",
              "    })();\n",
              "  </script>\n",
              "</div>\n",
              "    </div>\n",
              "  </div>\n"
            ]
          },
          "metadata": {},
          "execution_count": 42
        }
      ]
    },
    {
      "cell_type": "markdown",
      "source": [
        "Ahora podemos pasar a clasificar los registros (puntos) utilizando el clustering de K-means y jerárquico."
      ],
      "metadata": {
        "id": "J2ixGBkXFVlC"
      }
    },
    {
      "cell_type": "markdown",
      "source": [
        "# EX01 B ... i classifica els diferents registres utilitzant l'algorisme de K-means."
      ],
      "metadata": {
        "id": "b7OElvzyiRol"
      }
    },
    {
      "cell_type": "markdown",
      "source": [
        "# K-means, nº clústers óptimo:"
      ],
      "metadata": {
        "id": "e3tzj4UyYNLD"
      }
    },
    {
      "cell_type": "markdown",
      "source": [
        "Comenzamos viendo la distribución para tratar de inferir un nº de clústers entorno a los cuales se agrupen los datos:"
      ],
      "metadata": {
        "id": "8WQCRzPtk1QJ"
      }
    },
    {
      "cell_type": "code",
      "source": [
        "plt.scatter(face_thai_pca.PC1, face_thai_pca.PC2, s=1, color='black')\n",
        "plt.title('face_thai_pca')\n",
        "plt.xlabel('PC1')\n",
        "plt.ylabel('PC2')"
      ],
      "metadata": {
        "colab": {
          "base_uri": "https://localhost:8080/",
          "height": 490
        },
        "id": "KuX6vmNrHfGh",
        "outputId": "c4a774f6-a8c5-494c-808d-b8f033a6c9a0"
      },
      "execution_count": null,
      "outputs": [
        {
          "output_type": "execute_result",
          "data": {
            "text/plain": [
              "Text(0, 0.5, 'PC2')"
            ]
          },
          "metadata": {},
          "execution_count": 46
        },
        {
          "output_type": "display_data",
          "data": {
            "text/plain": [
              "<Figure size 640x480 with 1 Axes>"
            ],
            "image/png": "[encoded data removed]"
          },
          "metadata": {}
        }
      ]
    },
    {
      "cell_type": "markdown",
      "source": [
        "Como podemos comprobar arriba, visualmente es difícil inferir un número de clústers óptimo dada la forma de embudo de la distribución de puntos."
      ],
      "metadata": {
        "id": "z-uZc6IsuD8y"
      }
    },
    {
      "cell_type": "markdown",
      "source": [
        "Pero tenemos otra opción, que es iterar K-means para distintos números de clústers y evaluar de acuerdo con un parámetro de rendimiento, en este caso SSE (suma de errores al cuadrado - distancias de los puntos al nodo central de cada clúster elevadas al cuadrado y sumadas):"
      ],
      "metadata": {
        "id": "nBKpVWvBM-YT"
      }
    },
    {
      "cell_type": "code",
      "source": [
        "from sklearn.cluster import KMeans\n",
        "\n",
        "kmeans_kwargs = {\n",
        "    \"init\": \"random\",\n",
        "    \"n_init\": 10,\n",
        "    \"max_iter\": 300,\n",
        "    \"random_state\": 42,\n",
        "}\n",
        "\n",
        "sse = []\n",
        "for k in range(1, 11):\n",
        "    kmeans = KMeans(n_clusters=k, **kmeans_kwargs)\n",
        "    kmeans.fit(face_thai_pca)\n",
        "    sse.append(kmeans.inertia_)"
      ],
      "metadata": {
        "id": "oB1v2YVeM866"
      },
      "execution_count": null,
      "outputs": []
    },
    {
      "cell_type": "markdown",
      "source": [
        "Ahora que tenemos todos los errores en sse, los podemos mostrar en un gráfico:"
      ],
      "metadata": {
        "id": "0c6m5XeFRABf"
      }
    },
    {
      "cell_type": "code",
      "source": [
        "fig, ax = plt.subplots(figsize=(4, 3))\n",
        "ax.plot(range(1, 11), sse, color='black', lw=1)\n",
        "ax.set_xticks(range(1, 11))\n",
        "ax.set_xlabel(\"Number of Clusters\")\n",
        "ax.set_ylabel(\"SSE\")\n",
        "ax.set_title(\"K-means\")\n",
        "plt.grid(True)\n",
        "plt.show()"
      ],
      "metadata": {
        "colab": {
          "base_uri": "https://localhost:8080/",
          "height": 333
        },
        "id": "1ECfFW1MNafL",
        "outputId": "7e1c2078-870b-45cc-ccc8-caea0bf2bdf1"
      },
      "execution_count": null,
      "outputs": [
        {
          "output_type": "display_data",
          "data": {
            "text/plain": [
              "<Figure size 400x300 with 1 Axes>"
            ],
            "image/png": "[encoded data removed]"
          },
          "metadata": {}
        }
      ]
    },
    {
      "cell_type": "markdown",
      "source": [
        "En el gráfico vemos como el punto del codo, que se suele considerar el óptimo para equilibrar número de clústers (cuanto menor mejor), y error SSE (cuando menor mejor), se encuentra parece que en 3 clústers, pero también podría ser el 2 o incluso el 5. Por lo tanto necesitamos todavía un cálculo preciso ..."
      ],
      "metadata": {
        "id": "0oMFrsQjRLwO"
      }
    },
    {
      "cell_type": "code",
      "source": [
        "pip install kneed"
      ],
      "metadata": {
        "id": "dp9bm9qSPzhc"
      },
      "execution_count": null,
      "outputs": []
    },
    {
      "cell_type": "code",
      "source": [
        "from kneed import KneeLocator"
      ],
      "metadata": {
        "id": "5Y0mE_HCR3gA"
      },
      "execution_count": null,
      "outputs": []
    },
    {
      "cell_type": "code",
      "source": [
        "kl = KneeLocator(range(1, 11), sse, curve=\"convex\", direction=\"decreasing\")\n",
        "kl.elbow"
      ],
      "metadata": {
        "colab": {
          "base_uri": "https://localhost:8080/"
        },
        "id": "4gq7A5IKPbwT",
        "outputId": "6b71f69e-ad74-4df1-ae5a-8775af343bac"
      },
      "execution_count": null,
      "outputs": [
        {
          "output_type": "execute_result",
          "data": {
            "text/plain": [
              "3"
            ]
          },
          "metadata": {},
          "execution_count": 51
        }
      ]
    },
    {
      "cell_type": "markdown",
      "source": [
        "... y lo obtenemos en el paquete kneed, clase KneeLocator, utilizando el método elbow, que nos da el punto exacto del codo, en este caso 3 clústers."
      ],
      "metadata": {
        "id": "3o2F81DzR758"
      }
    },
    {
      "cell_type": "markdown",
      "source": [
        "# Clasificación K-means:"
      ],
      "metadata": {
        "id": "cxN3A0VjYdbK"
      }
    },
    {
      "cell_type": "markdown",
      "source": [
        "Ahora ya estamos en condiciones de aplicar el clústering K-means sobre face_thai_pca:"
      ],
      "metadata": {
        "id": "HxvUexP-TTcY"
      }
    },
    {
      "cell_type": "code",
      "source": [
        "kmeans = KMeans(\n",
        "    init=\"random\",\n",
        "    n_clusters=3,\n",
        "    n_init=10,\n",
        "    max_iter=300,\n",
        "    random_state=None\n",
        ")"
      ],
      "metadata": {
        "id": "aesQKZLrTz7X"
      },
      "execution_count": null,
      "outputs": []
    },
    {
      "cell_type": "code",
      "source": [
        "cluster_kmeans = kmeans.fit(face_thai_pca)"
      ],
      "metadata": {
        "id": "BNeNblSjUR9M"
      },
      "execution_count": null,
      "outputs": []
    },
    {
      "cell_type": "markdown",
      "source": [
        "Ya lo tenemos, vamos a mostrar los nodos centrales de cada clúster:"
      ],
      "metadata": {
        "id": "Pi6XFVpkmPWB"
      }
    },
    {
      "cell_type": "code",
      "source": [
        "print('Punto central de los clústers: '+str(kmeans.cluster_centers_))"
      ],
      "metadata": {
        "colab": {
          "base_uri": "https://localhost:8080/"
        },
        "id": "rq79o9ynYofO",
        "outputId": "39da3744-20da-4e4d-912a-1dde072e7ae4"
      },
      "execution_count": null,
      "outputs": [
        {
          "output_type": "stream",
          "name": "stdout",
          "text": [
            "Punto central de los clústers: [[ 85.12101941  28.98482397]\n",
            " [289.21516252 -51.92756587]\n",
            " [-11.61752289  -1.48053371]]\n"
          ]
        }
      ]
    },
    {
      "cell_type": "markdown",
      "source": [
        "Posteriormente utilizaremos la variable cluster_kmeans para obtener otra medida del rendimiento, como es Silhouette:"
      ],
      "metadata": {
        "id": "uxKc1DAKmZRE"
      }
    },
    {
      "cell_type": "markdown",
      "source": [
        "# EX02. Classifica els diferents registres utilitzant l'algoritme de clústering jeràrquic."
      ],
      "metadata": {
        "id": "UCCU4kXliYSZ"
      }
    },
    {
      "cell_type": "markdown",
      "source": [
        "Para hacer la clasificación jerárquica comenzaremos mostrando los registros en un dendograma:"
      ],
      "metadata": {
        "id": "-jyhAK_MmliC"
      }
    },
    {
      "cell_type": "code",
      "source": [
        "import scipy.cluster.hierarchy as shc\n",
        "plt.rcParams['lines.linewidth'] = 1\n",
        "plt.figure(figsize=(4, 4))\n",
        "plt.title(\"Clústering jerárquico\")\n",
        "dend = shc.dendrogram(shc.linkage(face_thai_pca, method='ward'))\n",
        "plt.axhline(y=4300, color='r', linestyle='--')\n",
        "plt.axhline(y=2900, color='r', linestyle='--')"
      ],
      "metadata": {
        "colab": {
          "base_uri": "https://localhost:8080/",
          "height": 413
        },
        "id": "gF9ry7oYaij9",
        "outputId": "bfd62c0f-0fae-4fea-91da-cafa1aa65da1"
      },
      "execution_count": null,
      "outputs": [
        {
          "output_type": "execute_result",
          "data": {
            "text/plain": [
              "<matplotlib.lines.Line2D at 0x7b799b303940>"
            ]
          },
          "metadata": {},
          "execution_count": 60
        },
        {
          "output_type": "display_data",
          "data": {
            "text/plain": [
              "<Figure size 400x400 with 1 Axes>"
            ],
            "image/png": "[encoded data removed]"
          },
          "metadata": {}
        }
      ]
    },
    {
      "cell_type": "markdown",
      "source": [
        "Las líneas rojas indican el punto de corte óptimo, que es la distancia vertical máxima entre clústers, por lo tanto sólo viendo el dendograma podríamos inferir que el número óptimo de clústers siguiendo el modelo jerárquico en este caso es 2, número de grupos en que queda dividido el conjunto."
      ],
      "metadata": {
        "id": "qQZp4xSTd77B"
      }
    },
    {
      "cell_type": "markdown",
      "source": [
        "Pero de nuevo hay otra manera de obtener el número óptimo de clústers jerárquicos con silhouette, iterando para valores entre 2 y 10:"
      ],
      "metadata": {
        "id": "_5sQPKZ8_V6d"
      }
    },
    {
      "cell_type": "code",
      "source": [
        "silhouette_coefficients = []\n",
        "\n",
        "for k in range(2, 11):\n",
        "    clustering = AgglomerativeClustering(n_clusters=k)\n",
        "    clustering.fit(face_thai_pca)\n",
        "    score = silhouette_score(face_thai_pca, clustering.labels_)\n",
        "    silhouette_coefficients.append(score)"
      ],
      "metadata": {
        "id": "WxdjVTAX8VdU"
      },
      "execution_count": 160,
      "outputs": []
    },
    {
      "cell_type": "markdown",
      "source": [
        "Mostramos los resultados gráficamente:"
      ],
      "metadata": {
        "id": "nDzu0oKSGwBu"
      }
    },
    {
      "cell_type": "code",
      "source": [
        "plt.figure(figsize=(4, 3))\n",
        "plt.plot(range(2, 11), silhouette_coefficients, color='black', lw=1)\n",
        "plt.xticks(range(2, 11))\n",
        "plt.xlabel(\"Number of Clusters\")\n",
        "plt.ylabel(\"Silhouette Coefficient\")\n",
        "plt.title('Clústering jerárquico')\n",
        "plt.grid(True)\n",
        "plt.show()"
      ],
      "metadata": {
        "colab": {
          "base_uri": "https://localhost:8080/",
          "height": 334
        },
        "id": "CKyW-3NwAoUC",
        "outputId": "84147db7-253e-4a3d-82f3-ce29c13b64a6"
      },
      "execution_count": 161,
      "outputs": [
        {
          "output_type": "display_data",
          "data": {
            "text/plain": [
              "<Figure size 400x300 with 1 Axes>"
            ],
            "image/png": "[encoded data removed]"
          },
          "metadata": {}
        }
      ]
    },
    {
      "cell_type": "markdown",
      "source": [
        "Podemos ver como en este caso el nº óptimo de clústers sería también 2, que es el que obtiene un coeficiente máximo. Por lo tanto ya podemos hacer el clústering jerárquico:"
      ],
      "metadata": {
        "id": "yXijExceG0S9"
      }
    },
    {
      "cell_type": "code",
      "source": [
        "from sklearn.cluster import AgglomerativeClustering\n",
        "cluster_jerarquico = AgglomerativeClustering(n_clusters=2, metric='euclidean', linkage='ward')\n",
        "clusters = cluster_jerarquico.fit_predict(face_thai_pca)\n",
        "np.unique(clusters)"
      ],
      "metadata": {
        "colab": {
          "base_uri": "https://localhost:8080/"
        },
        "id": "KqxmtzyY5GYA",
        "outputId": "e6b1361b-93a6-41ea-ab1a-46bb24466b0d"
      },
      "execution_count": 164,
      "outputs": [
        {
          "output_type": "execute_result",
          "data": {
            "text/plain": [
              "array([0, 1])"
            ]
          },
          "metadata": {},
          "execution_count": 164
        }
      ]
    },
    {
      "cell_type": "markdown",
      "source": [
        "Hemos ajustado el modelo con 2 clústers, y luego obtenido el clúster al que pertenece cada registro / observación de las publicaciones en facebook para Tailandia: 0 o 1."
      ],
      "metadata": {
        "id": "O76PVU5uJPY-"
      }
    },
    {
      "cell_type": "markdown",
      "source": [
        "Posteriormente utilizaremos la variable cluster_jerarquico para obtener la medida exacta del rendimiento con Silhouette."
      ],
      "metadata": {
        "id": "slGve7dZo4PI"
      }
    },
    {
      "cell_type": "markdown",
      "source": [
        "# EX03. Calcula el rendiment del clustering mitjançant un paràmetre com pot ser silhouette."
      ],
      "metadata": {
        "id": "4NmjldktimpG"
      }
    },
    {
      "cell_type": "markdown",
      "source": [
        "Obtenemos el rendimiento de los dos tipos de clústering aplicados en los ejercicios 1 y 2 con Silhouette:"
      ],
      "metadata": {
        "id": "L6QeDMwNKX65"
      }
    },
    {
      "cell_type": "code",
      "source": [
        "score = silhouette_score(face_thai_pca, cluster_kmeans.labels_).round(3)\n",
        "print('Silhouette kmeans con 3 clústers: '+str(score))"
      ],
      "metadata": {
        "colab": {
          "base_uri": "https://localhost:8080/"
        },
        "id": "q3k3r0LYU9-M",
        "outputId": "efcced1d-0057-45cd-8dcc-df01717cbb94"
      },
      "execution_count": 165,
      "outputs": [
        {
          "output_type": "stream",
          "name": "stdout",
          "text": [
            "Silhouette kmeans con 3 clústers: 0.875\n"
          ]
        }
      ]
    },
    {
      "cell_type": "code",
      "source": [
        "score = silhouette_score(face_thai_pca, cluster_jerarquico.labels_).round(3)\n",
        "print('Silhouette jerárquico con 2 clústers: '+str(score))"
      ],
      "metadata": {
        "colab": {
          "base_uri": "https://localhost:8080/"
        },
        "id": "ExoTFuOmNHSI",
        "outputId": "0b0ea2d3-c85e-49a9-e8a7-475f96c36cf2"
      },
      "execution_count": 167,
      "outputs": [
        {
          "output_type": "stream",
          "name": "stdout",
          "text": [
            "Silhouette jerárquico con 2 clústers: 0.905\n"
          ]
        }
      ]
    },
    {
      "cell_type": "markdown",
      "source": [
        "Vemos como el rendimiento Silhouette es algo superior para el clústering jerárquico de 3 grupos, 0.905, frente a 0.875 para el sistema K-means."
      ],
      "metadata": {
        "id": "ijChjSmHPMgQ"
      }
    },
    {
      "cell_type": "markdown",
      "source": [
        "Finalmente, y como resumen, en la práctica hemos tratado con los datos contenidos en el archivo `Publicacions Facebook Thailandia`, referentes a las publicaciones en facebook sobre Tailandia en el rango de años 2012 - 2018, primero describiéndolos, en segundo lugar transformándolos, en tercer lugar reduciendo las dimensiones y finalmente separándolos en 3 grupos y 2 grupos, utilizando tanto `K-means` como el clústering jerárquico de `AgglomerativeClustering`, para finalmente evaluar el rendimiento de ambas aproximaciones con Silhouette y comprobando como el rendimiento es algo superior utilizando el clústering jerárquico (0.905 frente a 0.875), si bien ambos rendimientos se pueden considerar altos."
      ],
      "metadata": {
        "id": "yt4EFRxwQgZb"
      }
    }
  ]
}